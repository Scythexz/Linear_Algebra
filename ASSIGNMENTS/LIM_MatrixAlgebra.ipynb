{
 "cells": [
  {
   "cell_type": "markdown",
   "metadata": {},
   "source": [
    "CODE CHALLENGES"
   ]
  },
  {
   "cell_type": "markdown",
   "metadata": {},
   "source": [
    "#1 Without the use of any python libraries or modules, develop a function that can perform matrix addition, given two numpy matrices."
   ]
  },
  {
   "cell_type": "code",
   "execution_count": 1,
   "metadata": {},
   "outputs": [
    {
     "name": "stdout",
     "output_type": "stream",
     "text": [
      "[10, 10, 10]\n",
      "[10, 10, 10]\n",
      "[10, 10, 10]\n"
     ]
    }
   ],
   "source": [
    "def matrix_addition(matrix1, matrix2):\n",
    "    # Check if the matrices have the same dimensions\n",
    "    if len(matrix1) != len(matrix2) or len(matrix1[0]) != len(matrix2[0]):\n",
    "        raise ValueError(\"Matrices must have the same dimensions for addition\")\n",
    "\n",
    "    # Initialize an empty matrix to store the result\n",
    "    result = []\n",
    "\n",
    "    # Iterate through rows\n",
    "    for i in range(len(matrix1)):\n",
    "        row_result = []\n",
    "        # Iterate through columns\n",
    "        for j in range(len(matrix1[0])):\n",
    "            # Add corresponding elements and append to the row_result\n",
    "            row_result.append(matrix1[i][j] + matrix2[i][j])\n",
    "        # Append the row_result to the result matrix\n",
    "        result.append(row_result)\n",
    "\n",
    "    return result\n",
    "\n",
    "# Example:\n",
    "matrix_a = [\n",
    "    [1, 2, 3],\n",
    "    [4, 5, 6],\n",
    "    [7, 8, 9]\n",
    "]\n",
    "\n",
    "matrix_b = [\n",
    "    [9, 8, 7],\n",
    "    [6, 5, 4],\n",
    "    [3, 2, 1]\n",
    "]\n",
    "\n",
    "result_matrix = matrix_addition(matrix_a, matrix_b)\n",
    "for row in result_matrix:\n",
    "    print(row)"
   ]
  },
  {
   "cell_type": "markdown",
   "metadata": {},
   "source": [
    "#2 Without the use of any python libraries or modules, develop a function that can multiply two numpy matrices."
   ]
  },
  {
   "cell_type": "code",
   "execution_count": 3,
   "metadata": {},
   "outputs": [
    {
     "name": "stdout",
     "output_type": "stream",
     "text": [
      "[30, 24, 18]\n",
      "[84, 69, 54]\n",
      "[138, 114, 90]\n"
     ]
    }
   ],
   "source": [
    "def matrix_multiplication(matrix1, matrix2):\n",
    "    # Check if the matrices can be multiplied\n",
    "    if len(matrix1[0]) != len(matrix2):\n",
    "        raise ValueError(\"Number of columns in the first matrix must be equal to the number of rows in the second matrix\")\n",
    "\n",
    "    # Initialize an empty matrix to store the result\n",
    "    result = []\n",
    "\n",
    "    # Iterate through rows of the first matrix\n",
    "    for i in range(len(matrix1)):\n",
    "        row_result = []\n",
    "        # Iterate through columns of the second matrix\n",
    "        for j in range(len(matrix2[0])):\n",
    "            # Compute the dot product of the ith row of matrix1 and the jth column of matrix2\n",
    "            dot_product = 0\n",
    "            for k in range(len(matrix2)):\n",
    "                dot_product += matrix1[i][k] * matrix2[k][j]\n",
    "            row_result.append(dot_product)\n",
    "        # Append the row_result to the result matrix\n",
    "        result.append(row_result)\n",
    "\n",
    "    return result\n",
    "\n",
    "# Example:\n",
    "matrix_a = [\n",
    "    [1, 2, 3],\n",
    "    [4, 5, 6],\n",
    "    [7, 8, 9]\n",
    "]\n",
    "\n",
    "matrix_b = [\n",
    "    [9, 8, 7],\n",
    "    [6, 5, 4],\n",
    "    [3, 2, 1]\n",
    "]\n",
    "\n",
    "result_matrix = matrix_multiplication(matrix_a, matrix_b)\n",
    "for row in result_matrix:\n",
    "    print(row)\n"
   ]
  },
  {
   "cell_type": "markdown",
   "metadata": {},
   "source": [
    "#3 The rule of distributivity states that given two matrices \n",
    "A and B and a scalar, k, then k(A + B) = kA + kB. Instead of writing a proof mathematically, develop two codes for k(A + B) and kA + kB."
   ]
  },
  {
   "cell_type": "markdown",
   "metadata": {},
   "source": [
    "Code 1 for k(A + B):"
   ]
  },
  {
   "cell_type": "code",
   "execution_count": 7,
   "metadata": {},
   "outputs": [
    {
     "name": "stdout",
     "output_type": "stream",
     "text": [
      "[12, 16]\n",
      "[20, 24]\n"
     ]
    }
   ],
   "source": [
    "def scalar_times_sum(k, matrix_A, matrix_B):\n",
    "    # Check if matrices A and B have the same dimensions\n",
    "    if len(matrix_A) != len(matrix_B) or len(matrix_A[0]) != len(matrix_B[0]):\n",
    "        raise ValueError(\"Matrices must have the same dimensions for addition\")\n",
    "\n",
    "    # Initialize an empty matrix to store the result\n",
    "    result = []\n",
    "\n",
    "    # Iterate through rows\n",
    "    for i in range(len(matrix_A)):\n",
    "        row_result = []\n",
    "        # Iterate through columns\n",
    "        for j in range(len(matrix_A[0])):\n",
    "            # Apply the distributive property: k(A + B) = kA + kB\n",
    "            element_result = k * (matrix_A[i][j] + matrix_B[i][j])\n",
    "            row_result.append(element_result)\n",
    "        # Append the row_result to the result matrix\n",
    "        result.append(row_result)\n",
    "\n",
    "    return result\n",
    "\n",
    "# Example:\n",
    "k_value = 2\n",
    "matrix_A = [\n",
    "    [1, 2],\n",
    "    [3, 4]\n",
    "]\n",
    "\n",
    "matrix_B = [\n",
    "    [5, 6],\n",
    "    [7, 8]\n",
    "]\n",
    "\n",
    "result_k_times_sum = scalar_times_sum(k_value, matrix_A, matrix_B)\n",
    "for row in result_k_times_sum:\n",
    "    print(row)\n"
   ]
  },
  {
   "cell_type": "markdown",
   "metadata": {},
   "source": [
    "Code 2 for kA + kB:"
   ]
  },
  {
   "cell_type": "code",
   "execution_count": 6,
   "metadata": {},
   "outputs": [
    {
     "name": "stdout",
     "output_type": "stream",
     "text": [
      "[2, 4]\n",
      "[6, 8]\n"
     ]
    }
   ],
   "source": [
    "def scalar_times_matrix(k, matrix):\n",
    "    # Initialize an empty matrix to store the result\n",
    "    result = []\n",
    "\n",
    "    # Iterate through rows\n",
    "    for i in range(len(matrix)):\n",
    "        row_result = []\n",
    "        # Iterate through columns\n",
    "        for j in range(len(matrix[0])):\n",
    "            # Apply the distributive property: kA + kB\n",
    "            element_result = k * matrix[i][j]\n",
    "            row_result.append(element_result)\n",
    "        # Append the row_result to the result matrix\n",
    "        result.append(row_result)\n",
    "\n",
    "    return result\n",
    "\n",
    "# Example:\n",
    "matrix_A = [\n",
    "    [1, 2],\n",
    "    [3, 4]\n",
    "]\n",
    "\n",
    "result_k_times_A = scalar_times_matrix(k_value, matrix_A)\n",
    "for row in result_k_times_A:\n",
    "    print(row)\n"
   ]
  },
  {
   "cell_type": "markdown",
   "metadata": {},
   "source": [
    "#4 Without using a python library or modules develop a function that can extract the diagonal of a numpy matrix."
   ]
  },
  {
   "cell_type": "code",
   "execution_count": 8,
   "metadata": {},
   "outputs": [
    {
     "name": "stdout",
     "output_type": "stream",
     "text": [
      "[1, 5, 9]\n"
     ]
    }
   ],
   "source": [
    "def extract_diagonal(matrix):\n",
    "    # Check if the matrix is square (number of rows equals number of columns)\n",
    "    if len(matrix) != len(matrix[0]):\n",
    "        raise ValueError(\"Input matrix must be square for diagonal extraction\")\n",
    "\n",
    "    # Extract the diagonal elements\n",
    "    diagonal = []\n",
    "    for i in range(len(matrix)):\n",
    "        diagonal.append(matrix[i][i])\n",
    "\n",
    "    return diagonal\n",
    "\n",
    "# Example:\n",
    "matrix = [\n",
    "    [1, 2, 3],\n",
    "    [4, 5, 6],\n",
    "    [7, 8, 9]\n",
    "]\n",
    "\n",
    "diagonal_elements = extract_diagonal(matrix)\n",
    "print(diagonal_elements)\n"
   ]
  },
  {
   "cell_type": "markdown",
   "metadata": {},
   "source": [
    "#5 Without using a python library or modules develop a function that can find a trace of a numpy matrix."
   ]
  },
  {
   "cell_type": "code",
   "execution_count": 11,
   "metadata": {},
   "outputs": [
    {
     "name": "stdout",
     "output_type": "stream",
     "text": [
      "15\n"
     ]
    }
   ],
   "source": [
    "def matrix_trace(matrix):\n",
    "    # Check if the matrix is square (number of rows equals number of columns)\n",
    "    if len(matrix) != len(matrix[0]):\n",
    "        raise ValueError(\"Input matrix must be square for trace calculation\")\n",
    "\n",
    "    # Calculate the trace (sum of diagonal elements)\n",
    "    trace_sum = 0\n",
    "    for i in range(len(matrix)):\n",
    "        trace_sum += matrix[i][i]\n",
    "\n",
    "    return trace_sum\n",
    "\n",
    "# Example:\n",
    "matrix = [\n",
    "    [1, 2, 3],\n",
    "    [4, 5, 6],\n",
    "    [7, 8, 9]\n",
    "]\n",
    "\n",
    "trace_value = matrix_trace(matrix)\n",
    "print(trace_value)\n"
   ]
  },
  {
   "cell_type": "markdown",
   "metadata": {},
   "source": [
    "Problem Solving "
   ]
  },
  {
   "cell_type": "markdown",
   "metadata": {},
   "source": [
    "1. Solve $X$ given that:\n",
    "\\begin{equation}\n",
    "A =\n",
    "\\begin{bmatrix}\n",
    "1 & 2 \\\\\n",
    "3 & 4 \\\\\n",
    "\\end{bmatrix},\n",
    "B =\n",
    "\\begin{bmatrix}\n",
    "-1 & 0 \\\\\n",
    "1 & 1 \\\\\n",
    "\\end{bmatrix}\n",
    "\\end{equation}\n",
    "- $3X = A-2B$\n",
    "- $2(A-B+2X) = 3(X-B)$"
   ]
  },
  {
   "cell_type": "markdown",
   "metadata": {},
   "source": [
    "- $3X = A-2B$\n",
    "    - Multiply $B$ by 2\n",
    "    $\n",
    "     \\begin{equation}\n",
    "     2\n",
    "        \\begin{bmatrix}\n",
    "            -1 & 0\\\\\n",
    "            1 & 1\\\\\n",
    "        \\end{bmatrix}\n",
    "        \\xrightarrow[]{}\n",
    "        \\begin{bmatrix}\n",
    "            -2 & 0\\\\\n",
    "            2 & 2\\\\\n",
    "        \\end{bmatrix}\n",
    "    \\end{equation}\n",
    "    $ \n",
    "    - Subtract 2 $B$ from $A$\n",
    "     \\begin{equation}\n",
    "        \\begin{bmatrix}\n",
    "            1 & 2\\\\\n",
    "            3 & 4\\\\\n",
    "        \\end{bmatrix}\n",
    "        -2 \n",
    "        \\begin{bmatrix}\n",
    "            -2 & 0\\\\\n",
    "            2 & 2\\\\\n",
    "        \\end{bmatrix}\n",
    "        \\xrightarrow[]{}\n",
    "        \\begin{bmatrix}\n",
    "            3 & 2\\\\\n",
    "            1 & 2\\\\\n",
    "        \\end{bmatrix}\n",
    "    \\end{equation}\n",
    "    - Divide the result by 3 to isolate $X$\n",
    "     \\begin{equation}\n",
    "        \\frac{1}{3}\n",
    "        \\begin{bmatrix}\n",
    "            3 & 2\\\\\n",
    "            1 & 2\\\\\n",
    "        \\end{bmatrix}\n",
    "        \\xrightarrow[]{}     \n",
    "        \\begin{bmatrix}\n",
    "            1 & \\frac{2}{3}\\\\\n",
    "            \\frac{1}{3} & \\frac{2}{3}\\\\\n",
    "        \\end{bmatrix}\n",
    "    \\end{equation}"
   ]
  },
  {
   "cell_type": "markdown",
   "metadata": {},
   "source": [
    "import numpy as np\n",
    "\n",
    "# Define matrices A and B\n",
    "A = np.array([[1, 2], [3, 4]])\n",
    "B = np.array([[-1, 0], [1, 1]])\n",
    "\n",
    "# Calculate 2B\n",
    "two_B = 2 * B\n",
    "\n",
    "# Calculate A - 2B\n",
    "result = A - two_B\n",
    "\n",
    "# Solve for X by dividing the result by 3\n",
    "X = result / 3\n",
    "\n",
    "# Print the result\n",
    "print(\"Matrix X:\")\n",
    "print(X)"
   ]
  },
  {
   "cell_type": "markdown",
   "metadata": {},
   "source": [
    "2. Write $B$ as a linear combination of the other matrices, if possible.\n",
    "- \n",
    "\\begin{equation}\n",
    "A_1 =\n",
    "\\begin{bmatrix}\n",
    "1 & 2 \\\\\n",
    "-1 & 1 \\\\\n",
    "\\end{bmatrix},\n",
    "A_2 =\n",
    "\\begin{bmatrix}\n",
    "0 & 1 \\\\\n",
    "2 & 1 \\\\\n",
    "\\end{bmatrix},\n",
    "B =\n",
    "\\begin{bmatrix}\n",
    "2 & 5 \\\\\n",
    "0 & 3 \\\\\n",
    "\\end{bmatrix}\n",
    "\\end{equation}\n",
    "<br><br>"
   ]
  },
  {
   "cell_type": "markdown",
   "metadata": {},
   "source": [
    "3. Given the following:\n",
    "\\begin{equation}\n",
    "A =\n",
    "\\begin{bmatrix}\n",
    "1 & 2 \\\\\n",
    "2 & 6 \\\\\n",
    "\\end{bmatrix},\n",
    "b_1 =\n",
    "\\begin{bmatrix}\n",
    "3 \\\\\n",
    "5 \\\\\n",
    "\\end{bmatrix},\n",
    "b_2 =\n",
    "\\begin{bmatrix}\n",
    "-1 \\\\\n",
    "2 \\\\\n",
    "\\end{bmatrix},\n",
    "b_3 =\n",
    "\\begin{bmatrix}\n",
    "2 \\\\\n",
    "0 \\\\\n",
    "\\end{bmatrix}\n",
    "\\end{equation}\n",
    "- Find $A^{-1}$, and use this to solve for $Ax=b_1,Ax=b_2,Ax=b_3$\n",
    "- Solve all three linear systems by row reducing the augmented matrix:\n",
    "\\begin{equation}\n",
    "\\begin{bmatrix}\n",
    "\\begin{array}{c|ccc}\n",
    "A &\n",
    "b_1 &\n",
    "b_2 &\n",
    "b_3 \\\\\n",
    "\\end{array}\n",
    "\\end{bmatrix}\n",
    "\\end{equation}"
   ]
  },
  {
   "cell_type": "markdown",
   "metadata": {},
   "source": [
    "5. Find the rank and nullity of:\n",
    "\\begin{bmatrix}\n",
    "2 & 4 & 0 & 0 & 1 \\\\\n",
    "6 & 3 & 5 & 1 & 0 \\\\\n",
    "1 & 0 & 2 & 2 & 5 \\\\\n",
    "1 & 1 & 1 & 1 & 1 \\\\\n",
    "\\end{bmatrix},"
   ]
  },
  {
   "cell_type": "markdown",
   "metadata": {},
   "source": []
  },
  {
   "cell_type": "markdown",
   "metadata": {},
   "source": [
    "4. In each given, determine if $b$ in in $col(A)$, and $w$ is in $row(A)$\n",
    "- \n",
    "\\begin{equation}\n",
    "A =\n",
    "\\begin{bmatrix}\n",
    "1 & 0 & -1 \\\\\n",
    "1 & 1 & 1 \\\\\n",
    "\\end{bmatrix},\n",
    "b =\n",
    "\\begin{bmatrix}\n",
    "3 \\\\\n",
    "2 \\\\\n",
    "\\end{bmatrix},\n",
    "w =\n",
    "\\begin{bmatrix}\n",
    "-1 &\n",
    "1 &\n",
    "1\n",
    "\\end{bmatrix},\n",
    "\\end{equation}\n",
    "- \n",
    "\\begin{equation}\n",
    "A =\n",
    "\\begin{bmatrix}\n",
    "1 & 1 & -1 \\\\\n",
    "1 & 3 & 0 \\\\\n",
    "3 & -1 & -5 \\\\\n",
    "\\end{bmatrix},\n",
    "b =\n",
    "\\begin{bmatrix}\n",
    "1 \\\\\n",
    "2 \\\\\n",
    "1 \\\\\n",
    "\\end{bmatrix},\n",
    "w =\n",
    "\\begin{bmatrix}\n",
    "1 &\n",
    "-3 &\n",
    "-3\n",
    "\\end{bmatrix},\n",
    "\\end{equation}"
   ]
  }
 ],
 "metadata": {
  "kernelspec": {
   "display_name": "Python 3 (ipykernel)",
   "language": "python",
   "name": "python3"
  },
  "language_info": {
   "codemirror_mode": {
    "name": "ipython",
    "version": 3
   },
   "file_extension": ".py",
   "mimetype": "text/x-python",
   "name": "python",
   "nbconvert_exporter": "python",
   "pygments_lexer": "ipython3",
   "version": "3.11.5"
  }
 },
 "nbformat": 4,
 "nbformat_minor": 4
}
