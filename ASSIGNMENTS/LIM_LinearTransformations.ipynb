{
 "cells": [
  {
   "cell_type": "markdown",
   "metadata": {},
   "source": [
    "Linear_Transformation Code Challenges"
   ]
  },
  {
   "cell_type": "markdown",
   "metadata": {},
   "source": [
    "#1 Develop a python function from scratch that will find the determinants of any \n",
    "n x n matrix.\n",
    "\n"
   ]
  },
  {
   "cell_type": "code",
   "execution_count": 2,
   "metadata": {},
   "outputs": [
    {
     "name": "stdout",
     "output_type": "stream",
     "text": [
      "Determinant of the 3x3 matrix: 0\n"
     ]
    }
   ],
   "source": [
    "def determinant(matrix):\n",
    "    # Base case: If the matrix is 1x1, return the only element\n",
    "    if len(matrix) == 1 and len(matrix[0]) == 1:\n",
    "        return matrix[0][0]\n",
    "\n",
    "    # Base case: If the matrix is 2x2, return the determinant using the formula\n",
    "    if len(matrix) == 2 and len(matrix[0]) == 2:\n",
    "        return matrix[0][0] * matrix[1][1] - matrix[0][1] * matrix[1][0]\n",
    "\n",
    "    det = 0\n",
    "    n = len(matrix)\n",
    "\n",
    "    for i in range(n):\n",
    "        # Calculate the cofactor matrix\n",
    "        cofactor_matrix = [row[:i] + row[i + 1:] for row in (matrix[1:])]\n",
    "\n",
    "        # Calculate the determinant using recursion\n",
    "        det += ((-1) ** i) * matrix[0][i] * determinant(cofactor_matrix)\n",
    "\n",
    "    return det\n"
   ]
  },
  {
   "cell_type": "markdown",
   "metadata": {},
   "source": [
    "#2 Develop a python function from scratch that will find both the eigenvectors and eigenvalues of any n x n matrix."
   ]
  },
  {
   "cell_type": "code",
   "execution_count": 12,
   "metadata": {},
   "outputs": [
    {
     "name": "stdout",
     "output_type": "stream",
     "text": [
      "Eigenvalues: [5.055144041280577, 1.4205719828306516, -0.4767782838099127]\n",
      "Eigenvectors: [[0.33266756779713047, 0.3952799775738402, 0.856204431584634], [-0.4368847897505619, -0.2137022383386027, -0.8737637173822671], [-0.4045000030441797, -0.27491644444019253, -0.8722388985327477]]\n"
     ]
    }
   ],
   "source": [
    "import numpy as np\n",
    "\n",
    "def normalize(vector):\n",
    "    norm = np.linalg.norm(vector)\n",
    "    return vector / norm\n",
    "\n",
    "def power_iteration(matrix, max_iterations=1000, tolerance=1e-6):\n",
    "    n = len(matrix)\n",
    "    \n",
    "    # Initialize a random non-zero vector\n",
    "    eigenvec = normalize(np.random.rand(n))\n",
    "\n",
    "    for _ in range(max_iterations):\n",
    "        # Perform power iteration\n",
    "        eigenvec_new = np.dot(matrix, eigenvec)\n",
    "        \n",
    "        # Normalize the eigenvector\n",
    "        eigenvec_new = normalize(eigenvec_new)\n",
    "        \n",
    "        # Check for convergence\n",
    "        if np.linalg.norm(eigenvec - eigenvec_new) < tolerance:\n",
    "            break\n",
    "        \n",
    "        eigenvec = eigenvec_new\n",
    "\n",
    "    eigenvalue = np.dot(eigenvec, np.dot(matrix, eigenvec))\n",
    "\n",
    "    return eigenvalue, eigenvec\n",
    "\n",
    "def eigen_decomposition_from_scratch(matrix):\n",
    "    # Convert the matrix to float\n",
    "    matrix = matrix.astype(float)\n",
    "\n",
    "    n = len(matrix)\n",
    "    eigenvectors = []\n",
    "    eigenvalues = []\n",
    "\n",
    "    for _ in range(n):\n",
    "        eigenvalue, eigenvec = power_iteration(matrix.copy())  # Make a copy of the matrix\n",
    "        \n",
    "        # Deflate the matrix\n",
    "        matrix -= eigenvalue * np.outer(eigenvec, eigenvec)\n",
    "        \n",
    "        eigenvalues.append(eigenvalue)\n",
    "        eigenvectors.append(list(eigenvec))\n",
    "\n",
    "    return eigenvalues, eigenvectors\n",
    "\n",
    "# Example usage:\n",
    "matrix_3x3 = np.array([[4, -2, 1], [1, 1, 2], [6, -3, 4]], dtype=float)\n",
    "eigenvalues, eigenvectors = eigen_decomposition_from_scratch(matrix_3x3)\n",
    "\n",
    "print(\"Eigenvalues:\", eigenvalues)\n",
    "print(\"Eigenvectors:\", eigenvectors)\n"
   ]
  },
  {
   "cell_type": "markdown",
   "metadata": {},
   "source": [
    "#3 Test your functions from a randomly generated n x n matrix."
   ]
  },
  {
   "cell_type": "code",
   "execution_count": 17,
   "metadata": {},
   "outputs": [
    {
     "name": "stdout",
     "output_type": "stream",
     "text": [
      "Determinant of the 3x3 matrix: 15\n",
      "Eigenvalues: [2.2638304658287884, 4.637349932328219, 1.3388435124176645]\n",
      "Eigenvectors: [[0.06952328165536283, 0.7137424696205533, 0.6969492093171658], [-0.4243475461795555, -0.23799663470497726, -0.8736628422455057], [-0.5007880584366111, -0.07526468190978808, -0.862291451995384]]\n"
     ]
    }
   ],
   "source": [
    "#Finding the determinants:\n",
    "matrix_3x3 = [[4, -2, 1], [1, 1, 2], [6, -3, 4]]\n",
    "result = determinant(matrix_3x3)\n",
    "print(\"Determinant of the 3x3 matrix:\", result)\n",
    "\n",
    "\n",
    "#Finding the eigenvalues and eigenvectors:\n",
    "matrix_3x3 = np.array([[4, -2, 1], [1, 1, 2], [6, -3, 4]], dtype=float)\n",
    "eigenvalues, eigenvectors = eigen_decomposition_from_scratch(matrix_3x3)\n",
    "\n",
    "print(\"Eigenvalues:\", eigenvalues)\n",
    "print(\"Eigenvectors:\", eigenvectors)"
   ]
  },
  {
   "cell_type": "code",
   "execution_count": null,
   "metadata": {},
   "outputs": [],
   "source": []
  }
 ],
 "metadata": {
  "kernelspec": {
   "display_name": "Python 3",
   "language": "python",
   "name": "python3"
  },
  "language_info": {
   "codemirror_mode": {
    "name": "ipython",
    "version": 3
   },
   "file_extension": ".py",
   "mimetype": "text/x-python",
   "name": "python",
   "nbconvert_exporter": "python",
   "pygments_lexer": "ipython3",
   "version": "3.12.0"
  }
 },
 "nbformat": 4,
 "nbformat_minor": 2
}
