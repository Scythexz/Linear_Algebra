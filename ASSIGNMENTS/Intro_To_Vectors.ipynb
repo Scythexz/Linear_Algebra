{
 "cells": [
  {
   "cell_type": "code",
   "execution_count": 65,
   "metadata": {},
   "outputs": [
    {
     "name": "stdout",
     "output_type": "stream",
     "text": [
      "3𝐮-2𝐯:  [ -3 -16  10]\n"
     ]
    }
   ],
   "source": [
    "import numpy as np\n",
    "u = np.array([1,-2,4])\n",
    "v = np.array([3,5,1])\n",
    "w = np.array([2,1,-3])\n",
    "print(\"3𝐮-2𝐯: \", (3*u) - (2*v))\n"
   ]
  },
  {
   "cell_type": "markdown",
   "metadata": {},
   "source": [
    "*Manual Solution*\n",
    "$$\n",
    "\\begin{align}\n",
    "    3\\textbf{u} - 2\\textbf{v} &= [(3)(1), (3)(-2), (3)(4)] - [(2)(3), (2)(5), (2)(1)] \\\\\n",
    "        &= [3, -6, 12] - [6, 10, 2] \\\\\n",
    "        &= [-3, -16, 10]\n",
    "\\end{align}\n",
    "$$"
   ]
  },
  {
   "cell_type": "code",
   "execution_count": 66,
   "metadata": {},
   "outputs": [
    {
     "name": "stdout",
     "output_type": "stream",
     "text": [
      "5𝐮-3𝐯-4w:  [ 6  1 35]\n"
     ]
    }
   ],
   "source": [
    "import numpy as np\n",
    "u = np.array([1,-2,4])\n",
    "v = np.array([3,5,1])\n",
    "w = np.array([2,1,-3])\n",
    "print(\"5𝐮-3𝐯-4w: \", (5*u) + (3*v) - (4*w))\n",
    " "
   ]
  },
  {
   "cell_type": "markdown",
   "metadata": {},
   "source": [
    "*Manual Solution*\n",
    "$$\n",
    "\\begin{align}\n",
    "    5\\textbf{u} + 3\\textbf{v} - 4\\textbf{w} &= [(5)(1), (5)(-2), (5)(4)] + [(3)(3), (3)(5), (3)(1)] - [(4)(2), (4)(1), (4)(-3))] \\\\\n",
    "        &= [5, (-10), 20] + [9, 15, 3] - [8, 4, (-12)] \\\\\n",
    "        &= [5 + 9 - 8], [(-10) + 15 - 4], [20 + 3 - (-12)] \\\\\n",
    "        &= [6, 1, 35]\n",
    "\\end{align}\n",
    "$$"
   ]
  },
  {
   "cell_type": "code",
   "execution_count": 67,
   "metadata": {},
   "outputs": [
    {
     "name": "stdout",
     "output_type": "stream",
     "text": [
      "u⋅v:  [  3 -10   4]\n",
      "v⋅w:  [ 6  5 -3]\n",
      "u⋅w:  [  2  -2 -12]\n"
     ]
    }
   ],
   "source": [
    "import numpy as np\n",
    "u = np.array([1,-2,4])\n",
    "v = np.array([3,5,1])\n",
    "w = np.array([2,1,-3])\n",
    "print(\"u⋅v: \", (u*v))\n",
    "print(\"v⋅w: \", (v*w))\n",
    "print(\"u⋅w: \", (u*w))\n",
    "\n",
    "\n"
   ]
  },
  {
   "cell_type": "markdown",
   "metadata": {},
   "source": [
    "*Manual Solution*\n",
    "$$\n",
    "\\begin{align}\n",
    "    \\textbf{u} \\cdotp \\textbf{v} &= [(1)(3) + (-2)(5) + (4)(1)] \\\\\n",
    "        &= [(3) + (-10) + (4)] \\\\\n",
    "    \\textbf{u} \\cdotp \\textbf{v} &= -3\n",
    "\\end{align}\n",
    "$$\n",
    "\n",
    "$$\n",
    "\\begin{align}\n",
    "    \\textbf{v} \\cdotp \\textbf{w} &= (3)(2) + (5)(1) + (1)(-3) \\\\\n",
    "        &= (6) + (5) + (-3) \\\\\n",
    "    \\textbf{v} \\cdotp \\textbf{w} &= 8\n",
    "\\end{align}\n",
    "$$\n",
    "\n",
    "$$\n",
    "\\begin{align}\n",
    "    \\textbf{u} \\cdotp \\textbf{w} &= (1)(2) + (-2)(1) + (4)(-3) \\\\\n",
    "        &= (2) + (-2) + (-12) \\\\\n",
    "        &= -12\n",
    "\\end{align}\n",
    "$$"
   ]
  },
  {
   "cell_type": "code",
   "execution_count": 68,
   "metadata": {},
   "outputs": [
    {
     "name": "stdout",
     "output_type": "stream",
     "text": [
      "||u||:  4.58257569495584\n",
      "||v||:  5.916079783099616\n",
      "||w||:  3.7416573867739413\n"
     ]
    }
   ],
   "source": [
    "import numpy as np\n",
    "u = np.array([1,-2,4])\n",
    "v = np.array([3,5,1])\n",
    "w = np.array([2,1,-3])\n",
    "print(\"||u||: \", (np.sqrt(u.dot(u))))\n",
    "print(\"||v||: \", (np.sqrt(v.dot(v))))\n",
    "print(\"||w||: \", (np.sqrt(w.dot(w))))\n"
   ]
  },
  {
   "cell_type": "markdown",
   "metadata": {},
   "source": [
    "*Manual Solution*\n",
    "$$\n",
    "\\begin{align}\n",
    "    ||\\textbf{u}|| &= \\sqrt{1^2 + (-2)^2 + 4^2} \\\\\n",
    "        &= \\sqrt{1 + 4 + 16} \\\\\n",
    "    ||\\textbf{u}|| &= \\sqrt{21}\n",
    "\\end{align}\n",
    "$$\n",
    "\n",
    "$$\n",
    "\\begin{align}\n",
    "    ||\\textbf{v}|| &= \\sqrt{3^2 + 5^2 + 1^2} \\\\\n",
    "        &= \\sqrt{9 + 25 + 1} \\\\\n",
    "        ||\\textbf{v}|| &= \\sqrt{35}\n",
    "\\end{align}\n",
    "$$\n",
    "\n",
    "$$\n",
    "\\begin{align}\n",
    "    ||\\textbf{w}|| &= \\sqrt{2^2 + 1^2 + (-3)^2} \\\\\n",
    "        &= \\sqrt{4 + 1 + 9} \\\\\n",
    "        &= \\sqrt{14}\n",
    "\\end{align}\n",
    "$$"
   ]
  },
  {
   "cell_type": "code",
   "execution_count": 69,
   "metadata": {},
   "outputs": [
    {
     "name": "stdout",
     "output_type": "stream",
     "text": [
      "cos θ = -0.11065666703449763\n"
     ]
    }
   ],
   "source": [
    "import numpy as np\n",
    "u = np.array([1,-2,4])\n",
    "v = np.array([3,5,1])\n",
    "w = np.array([2,1,-3])\n",
    "print(\"cos θ =\",u.dot(v)/(np.linalg.norm(u)*np.linalg.norm(v)))"
   ]
  },
  {
   "cell_type": "markdown",
   "metadata": {},
   "source": [
    "*Manual Solution*\n",
    "$$\n",
    "\\begin{align}\n",
    "    \\cos{\\theta} &= \\frac{\\textbf{u} \\cdotp \\textbf{v}}{||\\textbf{u}|| \\ ||\\textbf{v}||} \\\\\n",
    "        &= \\frac{(1)(3) + (-2)(5) + (4)(1)}{\\sqrt{1^2 + (-2)^2 + 4^2} \\sqrt{3^2 + 5^2 + 1^2}} \\\\\n",
    "        &= \\frac{3 + (-10) + 4}{\\sqrt{1 + 4 + 16} \\sqrt{9 + 25 + 1}} \\\\\n",
    "        &= \\frac{-3}{\\sqrt{21} \\sqrt{35}}\n",
    "\\end{align}\n",
    "$$"
   ]
  },
  {
   "cell_type": "code",
   "execution_count": 70,
   "metadata": {},
   "outputs": [
    {
     "name": "stdout",
     "output_type": "stream",
     "text": [
      "cos α  = 0.36140316116210053\n"
     ]
    }
   ],
   "source": [
    "import numpy as np\n",
    "u = np.array([1,-2,4])\n",
    "v = np.array([3,5,1])\n",
    "w = np.array([2,1,-3])\n",
    "print(\"cos α  =\",v.dot(w)/(np.linalg.norm(v)*np.linalg.norm(w)))"
   ]
  },
  {
   "cell_type": "markdown",
   "metadata": {},
   "source": [
    "*Manual Selection*\n",
    "$$\n",
    "\\begin{align}\n",
    "    \\cos{\\alpha} &= \\frac{\\textbf{v} \\cdotp \\textbf{w}}{||\\textbf{v}|| \\ ||\\textbf{w}||} \\\\\n",
    "        &= \\frac{(3)(2) + (5)(1) + (1)(-3)}{\\sqrt{3^2 + 5^2 + 1^2} \\sqrt{2^2 + 1^2 + (-3)^2}} \\\\\n",
    "        &= \\frac{6 + 5 + (-3)}{\\sqrt{9 + 25 + 1} \\sqrt{4 + 1 + 9}} \\\\\n",
    "        &= \\frac{8}{\\sqrt{35} \\sqrt{14}}\n",
    "\\end{align}\n",
    "$$"
   ]
  },
  {
   "cell_type": "code",
   "execution_count": 71,
   "metadata": {},
   "outputs": [
    {
     "name": "stdout",
     "output_type": "stream",
     "text": [
      "cos β  = -0.6998542122237653\n"
     ]
    }
   ],
   "source": [
    "import numpy as np\n",
    "u = np.array([1,-2,4])\n",
    "v = np.array([3,5,1])\n",
    "w = np.array([2,1,-3])\n",
    "print(\"cos β  =\",u.dot(w)/(np.linalg.norm(u)*np.linalg.norm(w)))"
   ]
  },
  {
   "cell_type": "markdown",
   "metadata": {},
   "source": [
    "*Manual Selection*\n",
    "$$\n",
    "\\begin{align}\n",
    "    \\cos{\\beta} &= \\frac{\\textbf{u} \\cdotp \\textbf{w}}{||\\textbf{u}|| \\ ||\\textbf{w}||} \\\\\n",
    "        &= \\frac{(1)(2) + (-2)(1) + (4)(-3)}{\\sqrt{1^2 + (-2)^2 + 4^2} \\sqrt{2^2 + 1^2 + (-3)^2}} \\\\\n",
    "        &= \\frac{2 + (-2) + (-12)}{\\sqrt{1 + 4 + 16} \\sqrt{4 + 1 + 9}} \\\\\n",
    "        &= \\frac{(-12)}{\\sqrt{21} \\sqrt{14}}\n",
    "\\end{align}\n",
    "$$"
   ]
  },
  {
   "cell_type": "code",
   "execution_count": 72,
   "metadata": {},
   "outputs": [
    {
     "name": "stdout",
     "output_type": "stream",
     "text": [
      "d(u,v) =  7.874007874011811\n"
     ]
    }
   ],
   "source": [
    "import numpy as np\n",
    "u = np.array([1,-2,4])\n",
    "v = np.array([3,5,1])\n",
    "w = np.array([2,1,-3])\n",
    "print(\"d(u,v) = \", np.linalg.norm(u-v))"
   ]
  },
  {
   "cell_type": "markdown",
   "metadata": {},
   "source": [
    "*Manual Solution*\n",
    "$$\n",
    "\\begin{align}\n",
    "    d(\\textbf{u}, \\textbf{v}) &= ||\\textbf{u} - \\textbf{v}|| \\\\\n",
    "        &= \\sqrt{(1 - 3)^2 + ((-2) - 5)^2 + (4 - 1)^2} \\\\\n",
    "        &= \\sqrt{(-2)^2 + (-7)^2 + 3^2} \\\\\n",
    "        &= \\sqrt{4 + 49 + 9} \\\\\n",
    "        &= \\sqrt{62}\n",
    "\\end{align}\n",
    "$$"
   ]
  },
  {
   "cell_type": "code",
   "execution_count": 73,
   "metadata": {},
   "outputs": [
    {
     "name": "stdout",
     "output_type": "stream",
     "text": [
      "d(w,v) =  5.744562646538029\n"
     ]
    }
   ],
   "source": [
    "import numpy as np\n",
    "u = np.array([1,-2,4])\n",
    "v = np.array([3,5,1])\n",
    "w = np.array([2,1,-3])\n",
    "print(\"d(w,v) = \", np.linalg.norm(w-v))"
   ]
  },
  {
   "cell_type": "markdown",
   "metadata": {},
   "source": [
    "*Manual Solution*\n",
    "$$\n",
    "\\begin{align}\n",
    "    d(\\textbf{w}, \\textbf{v}) &= ||\\textbf{w} - \\textbf{v}|| \\\\\n",
    "        &= \\sqrt{(2 - 3)^2 + (1 - 5)^2 + ((-3) - 1)^2} \\\\\n",
    "        &= \\sqrt{(-1)^2 + (-4)^2 + (-4)^2} \\\\\n",
    "        &= \\sqrt{1 + 16 + 16} \\\\\n",
    "        &= \\sqrt{33}\n",
    "\\end{align}\n",
    "$$"
   ]
  },
  {
   "cell_type": "code",
   "execution_count": 74,
   "metadata": {},
   "outputs": [
    {
     "name": "stdout",
     "output_type": "stream",
     "text": [
      "d(u,w) =  7.681145747868608\n"
     ]
    }
   ],
   "source": [
    "import numpy as np\n",
    "u = np.array([1,-2,4])\n",
    "v = np.array([3,5,1])\n",
    "w = np.array([2,1,-3])\n",
    "print(\"d(u,w) = \", np.linalg.norm(u-w))"
   ]
  },
  {
   "cell_type": "markdown",
   "metadata": {},
   "source": [
    "*Manual Solution*\n",
    "$$\n",
    "\\begin{align}\n",
    "    d(\\textbf{u}, \\textbf{w}) &= ||\\textbf{u} - \\textbf{w}|| \\\\\n",
    "        &= \\sqrt{(1 - 2)^2 + ((-2) - 1)^2 + (4 - (-3))^2} \\\\\n",
    "        &= \\sqrt{(-1)^2 + (-3)^2 + 7^2} \\\\\n",
    "        &= \\sqrt{1 + 9 + 49} \\\\\n",
    "        &= \\sqrt{59}\n",
    "\\end{align}\n",
    "$$"
   ]
  },
  {
   "cell_type": "code",
   "execution_count": 75,
   "metadata": {},
   "outputs": [
    {
     "name": "stdout",
     "output_type": "stream",
     "text": [
      "proj(u,v) =  [-0.25714286 -0.42857143 -0.08571429]\n"
     ]
    }
   ],
   "source": [
    "import numpy as np\n",
    "u = np.array([1,-2,4])\n",
    "v = np.array([3,5,1])\n",
    "w = np.array([2,1,-3])\n",
    "print(\"proj(u,v) = \",u.dot(v)*v/(np.linalg.norm(v)**2) )"
   ]
  },
  {
   "cell_type": "markdown",
   "metadata": {},
   "source": [
    "*Manual Solution*\n",
    "$$\n",
    "\\begin{align}\n",
    "    proj(\\textbf{u}, \\textbf{v}) &= \\frac{\\textbf{u} \\cdotp \\textbf{v}}{||\\textbf{v}||^2} \\textbf{v} \\\\\n",
    "        &= \\frac{(1)(3) + (-2)(5) + (4)(1)}{(\\sqrt{3^2 + 5^2 + 1^2})^2} (3, 5, 1) \\\\\n",
    "        &= \\frac{3 - 10 + 4}{(\\sqrt{9 + 25 + 1})^2} (3, 5, 1) \\\\\n",
    "        &= \\frac{-3}{(\\sqrt{35})^2} (3, 5, 1) \\\\\n",
    "        &= \\frac{-3}{35} (3, 5, 1) \\\\\n",
    "        &= (\\frac{-9}{35}, \\frac{-3}{7}, \\frac{-3}{35})\n",
    "\n",
    "\\end{align}\n",
    "$$"
   ]
  },
  {
   "cell_type": "code",
   "execution_count": 76,
   "metadata": {},
   "outputs": [
    {
     "name": "stdout",
     "output_type": "stream",
     "text": [
      "proj(w,v) =  [0.68571429 1.14285714 0.22857143]\n"
     ]
    }
   ],
   "source": [
    "import numpy as np\n",
    "u = np.array([1,-2,4])\n",
    "v = np.array([3,5,1])\n",
    "w = np.array([2,1,-3])\n",
    "print(\"proj(w,v) = \",w.dot(v)*v/(np.linalg.norm(v)**2) )"
   ]
  },
  {
   "cell_type": "markdown",
   "metadata": {},
   "source": [
    "*Manual Solution*\n",
    "$$\n",
    "\\begin{align}\n",
    "    proj(\\textbf{w}, \\textbf{v}) &= \\frac{\\textbf{w} \\cdotp \\textbf{v}}{||\\textbf{v}||^2} \\textbf{v} \\\\\n",
    "        &= \\frac{(2)(3) + (1)(5) + (-3)(1)}{(\\sqrt{3^2 + 5^2 + 1^2})^2} (3, 5, 1) \\\\\n",
    "        &= \\frac{6 + 5 - 3}{(\\sqrt{9 + 25 + 1})^2} (3, 5, 1) \\\\\n",
    "        &= \\frac{8}{(\\sqrt{35})^2} (3, 5, 1) \\\\\n",
    "        &= \\frac{8}{35} (3, 5, 1) \\\\\n",
    "        &= (\\frac{24}{35}, \\frac{8}{7}, \\frac{8}{35})\n",
    "\n",
    "\\end{align}\n",
    "$$"
   ]
  },
  {
   "cell_type": "code",
   "execution_count": 77,
   "metadata": {},
   "outputs": [
    {
     "name": "stdout",
     "output_type": "stream",
     "text": [
      "proj(u,w) =  [-1.71428571 -0.85714286  2.57142857]\n"
     ]
    }
   ],
   "source": [
    "import numpy as np\n",
    "u = np.array([1,-2,4])\n",
    "v = np.array([3,5,1])\n",
    "w = np.array([2,1,-3])\n",
    "print(\"proj(u,w) = \",u.dot(w)*w/(np.linalg.norm(w)**2) )"
   ]
  },
  {
   "cell_type": "markdown",
   "metadata": {},
   "source": [
    "*Manual Solution*\n",
    "$$\n",
    "\\begin{align}\n",
    "    proj(\\textbf{u}, \\textbf{w}) &= \\frac{\\textbf{u} \\cdotp \\textbf{w}}{||\\textbf{w}||^2} \\textbf{w} \\\\\n",
    "        &= \\frac{(1)(2) + (-2)(1) + (4)(-3)}{(\\sqrt{2^2 + 1^2 + -3^2})^2} (2, 1, -3) \\\\\n",
    "        &= \\frac{2 - 2 - 12}{(\\sqrt{4 + 1 + 9})^2} (2, 1, -3) \\\\\n",
    "        &= \\frac{-12}{(\\sqrt{14})^2} (2, 1, -3) \\\\\n",
    "        &= \\frac{-6}{7} (2, 1, -3) \\\\\n",
    "        &= (\\frac{-12}{7}, \\frac{-6}{7}, \\frac{18}{7})\n",
    "\n",
    "\\end{align}\n",
    "$$"
   ]
  },
  {
   "cell_type": "code",
   "execution_count": 78,
   "metadata": {},
   "outputs": [
    {
     "name": "stdout",
     "output_type": "stream",
     "text": [
      "Number 2\n",
      "3u - 2v =  [ -1   7 -22]\n"
     ]
    }
   ],
   "source": [
    "import numpy as np\n",
    "u = np.array([1,3,-4])\n",
    "v = np.array([2,1,5])\n",
    "w = np.array([3,-2,6])\n",
    "print('Number 2')\n",
    "print('3u - 2v = ',3*u - 2*v)\n"
   ]
  },
  {
   "cell_type": "markdown",
   "metadata": {},
   "source": [
    "*Manual Solution*\n",
    "$$\n",
    "\\begin{align}\n",
    "    3\\textbf{u} - 2\\textbf{v} &=\n",
    "        \\begin{bmatrix}\n",
    "            (3)(1) - (2)(2) \\\\\n",
    "            (3)(3) - (2)(1) \\\\\n",
    "            (3)(-4) - (2)(5) \\\\\n",
    "        \\end{bmatrix} \\\\ &=\n",
    "        \\begin{bmatrix}\n",
    "            3 - 4 \\\\\n",
    "            9 - 2 \\\\\n",
    "            (-12) - 10 \\\\\n",
    "        \\end{bmatrix} \\\\ &=\n",
    "        \\begin{bmatrix}\n",
    "            -1 \\\\\n",
    "            7 \\\\\n",
    "            -22 \\\\\n",
    "        \\end{bmatrix}\n",
    "\\end{align}\n",
    "$$"
   ]
  },
  {
   "cell_type": "code",
   "execution_count": 79,
   "metadata": {},
   "outputs": [
    {
     "name": "stdout",
     "output_type": "stream",
     "text": [
      "5u + 3v - 4w = [ -1  26 -29]\n"
     ]
    }
   ],
   "source": [
    "import numpy as np\n",
    "u = np.array([1,3,-4])\n",
    "v = np.array([2,1,5])\n",
    "w = np.array([3,-2,6])\n",
    "print('5u + 3v - 4w =', 5*u + 3*v -4*w)"
   ]
  },
  {
   "cell_type": "markdown",
   "metadata": {},
   "source": [
    "*Manual Solution*\n",
    "$$\n",
    "\\begin{align}\n",
    "    5\\textbf{u} + 3\\textbf{v} - 4\\textbf{w} &=\n",
    "        \\begin{bmatrix}\n",
    "            (5)(1) + (3)(2) - (4)(3) \\\\\n",
    "            (5)(3) + (3)(1) - (4)(-2) \\\\\n",
    "            (5)(-4) + (3)(5) - (4)(6) \\\\\n",
    "        \\end{bmatrix} \\\\ &=\n",
    "        \\begin{bmatrix}\n",
    "            5 + 6 - 12 \\\\\n",
    "            15 + 3 - (-8) \\\\\n",
    "            (-20) + 15 - 24 \\\\\n",
    "        \\end{bmatrix} \\\\ &=\n",
    "        \\begin{bmatrix}\n",
    "            -1 \\\\\n",
    "            26 \\\\\n",
    "            -29 \\\\\n",
    "        \\end{bmatrix}\n",
    "\\end{align}\n",
    "$$"
   ]
  },
  {
   "cell_type": "code",
   "execution_count": 80,
   "metadata": {},
   "outputs": [
    {
     "name": "stdout",
     "output_type": "stream",
     "text": [
      "u.v = -15   v.w = 34   u.w = -27\n"
     ]
    }
   ],
   "source": [
    "import numpy as np\n",
    "u = np.array([1,3,-4])\n",
    "v = np.array([2,1,5])\n",
    "w = np.array([3,-2,6])\n",
    "print('u.v =', u.dot(v),'  v.w =', v.dot(w), '  u.w =', u.dot(w))"
   ]
  },
  {
   "cell_type": "markdown",
   "metadata": {},
   "source": [
    "*Manual Solution*\n",
    "$$\n",
    "\\begin{align}\n",
    "    \\textbf{u} \\cdotp \\textbf{v} &= (1)(2) + (3)(1) + (-4)(5) \\\\\n",
    "    &= (2) + (3) + (-20) \\\\\n",
    "    &= -15\n",
    "\\end{align}\n",
    "$$\n",
    "\n",
    "$$\n",
    "\\begin{align}\n",
    "    \\textbf{v} \\cdotp \\textbf{w} &= (2)(3) + (1)(-2) + (5)(6) \\\\\n",
    "    &= (6) + (-2) + (30) \\\\\n",
    "    &= 34\n",
    "\\end{align}\n",
    "$$\n",
    "\n",
    "$$\n",
    "\\begin{align}\n",
    "    \\textbf{u} \\cdotp \\textbf{w} &= (1)(3) + (3)(-2) + (-4)(6) \\\\\n",
    "    &= (3) + (-6) + (-24) \\\\\n",
    "    &= -27\n",
    "\\end{align}\n",
    "$$"
   ]
  },
  {
   "cell_type": "code",
   "execution_count": 81,
   "metadata": {},
   "outputs": [
    {
     "name": "stdout",
     "output_type": "stream",
     "text": [
      "||u|| =  5.0990195135927845   ||v|| =  5.477225575051661   ||w|| =  5.830951894845301\n"
     ]
    }
   ],
   "source": [
    "import numpy as np\n",
    "u = np.array([1,3,-4])\n",
    "v = np.array([2,1,5])\n",
    "w = np.array([3,-2,6])\n",
    "print('||u|| = ', np.sqrt(u.dot(u)), '  ||v|| = ', np.sqrt(v.dot(v)), '  ||w|| = ', np.sqrt(v.dot(w)))"
   ]
  },
  {
   "cell_type": "markdown",
   "metadata": {},
   "source": [
    "*Manual Solution*\n",
    "$$\n",
    "\\begin{align}\n",
    "    ||\\textbf{u}|| &= \\sqrt{1^2 + 3^2 + (-4)^2} \\\\\n",
    "    &= \\sqrt{1 + 9 + 16} \\\\\n",
    "    &= \\sqrt{26}\n",
    "\\end{align}\n",
    "$$\n",
    "\n",
    "$$\n",
    "\\begin{align}\n",
    "    ||\\textbf{v}|| &= \\sqrt{2^2 + 1^2 + 5^2} \\\\\n",
    "    &= \\sqrt{4 + 1 + 25} \\\\\n",
    "    &= \\sqrt{30}\n",
    "\\end{align}\n",
    "$$\n",
    "\n",
    "$$\n",
    "\\begin{align}\n",
    "    ||\\textbf{w}|| &= \\sqrt{3^2 + (-2)^2 + 6^2} \\\\\n",
    "    &= \\sqrt{9 + 4 + 36} \\\\\n",
    "    &= \\sqrt{49}\n",
    "\\end{align}\n",
    "$$"
   ]
  },
  {
   "cell_type": "code",
   "execution_count": 82,
   "metadata": {},
   "outputs": [
    {
     "name": "stdout",
     "output_type": "stream",
     "text": [
      "cos θ = -0.5370861555295747\n"
     ]
    }
   ],
   "source": [
    "import numpy as np\n",
    "u = np.array([1,3,-4])\n",
    "v = np.array([2,1,5])\n",
    "w = np.array([3,-2,6])\n",
    "print(\"cos θ =\",u.dot(v)/(np.linalg.norm(u)*np.linalg.norm(v)))"
   ]
  },
  {
   "cell_type": "markdown",
   "metadata": {},
   "source": [
    "*Manual Solution*\n",
    "$$\n",
    "\\begin{align}\n",
    "    \\cos{\\theta} &= \\frac{\\textbf{u} \\cdotp \\textbf{v}}{||\\textbf{u}|| \\ ||\\textbf{v}||} \\\\\n",
    "        &= \\frac{(1)(2) + (3)(1) + (-4)(5)}{\\sqrt{1^2 + 3^2 + (-4)^2} \\sqrt{2^2 + 1^2 + 5^2}} \\\\\n",
    "        &= \\frac{2 + 3 + (-20)}{\\sqrt{1 + 9 + 16} \\sqrt{4 + 1 + 25}} \\\\\n",
    "        &= \\frac{-15}{\\sqrt{26} \\sqrt{30}}\n",
    "\\end{align}\n",
    "$$"
   ]
  },
  {
   "cell_type": "code",
   "execution_count": 83,
   "metadata": {},
   "outputs": [
    {
     "name": "stdout",
     "output_type": "stream",
     "text": [
      "cos α  = 0.8867889026274118\n"
     ]
    }
   ],
   "source": [
    "import numpy as np\n",
    "u = np.array([1,3,-4])\n",
    "v = np.array([2,1,5])\n",
    "w = np.array([3,-2,6])\n",
    "print(\"cos α  =\",v.dot(w)/(np.linalg.norm(v)*np.linalg.norm(w)))"
   ]
  },
  {
   "cell_type": "markdown",
   "metadata": {},
   "source": [
    "*Manual Selection*\n",
    "$$\n",
    "\\begin{align}\n",
    "    \\cos{\\alpha} &= \\frac{\\textbf{v} \\cdotp \\textbf{w}}{||\\textbf{v}|| \\ ||\\textbf{w}||} \\\\\n",
    "        &= \\frac{(2)(3) + (1)(-2) + (5)(6)}{\\sqrt{2^2 + 1^2 + 5^2} \\sqrt{3^2 + (-2)^2 + 6^2}} \\\\\n",
    "        &= \\frac{6 + (-2) + 30}{\\sqrt{4 + 1 + 25} \\sqrt{9 + 4 + 36}} \\\\\n",
    "        &= \\frac{34}{\\sqrt{30} \\sqrt{49}}\n",
    "\\end{align}\n",
    "$$"
   ]
  },
  {
   "cell_type": "code",
   "execution_count": 84,
   "metadata": {},
   "outputs": [
    {
     "name": "stdout",
     "output_type": "stream",
     "text": [
      "cos β  = -0.7564479498187099\n"
     ]
    }
   ],
   "source": [
    "import numpy as np\n",
    "u = np.array([1,3,-4])\n",
    "v = np.array([2,1,5])\n",
    "w = np.array([3,-2,6])\n",
    "print(\"cos β  =\",u.dot(w)/(np.linalg.norm(u)*np.linalg.norm(w)))"
   ]
  },
  {
   "cell_type": "markdown",
   "metadata": {},
   "source": [
    "*Manual Selection*\n",
    "$$\n",
    "\\begin{align}\n",
    "    \\cos{\\beta} &= \\frac{\\textbf{u} \\cdotp \\textbf{w}}{||\\textbf{u}|| \\ ||\\textbf{w}||} \\\\\n",
    "        &= \\frac{(1)(3) + (3)(-2) + (-4)(6)}{\\sqrt{1^2 + 3^2 + (-4)^2} \\sqrt{3^2 + (-2)^2 + 6^2}} \\\\\n",
    "        &= \\frac{3 + (-6) + (-24)}{\\sqrt{1 + 9 + 16} \\sqrt{9 + 4 + 36}} \\\\\n",
    "        &= \\frac{(-27)}{\\sqrt{26} \\sqrt{49}}\n",
    "\\end{align}\n",
    "$$"
   ]
  },
  {
   "cell_type": "code",
   "execution_count": 85,
   "metadata": {},
   "outputs": [
    {
     "name": "stdout",
     "output_type": "stream",
     "text": [
      "d(u,v) =  9.273618495495704\n"
     ]
    }
   ],
   "source": [
    "import numpy as np\n",
    "u = np.array([1,3,-4])\n",
    "v = np.array([2,1,5])\n",
    "w = np.array([3,-2,6])\n",
    "print(\"d(u,v) = \", np.linalg.norm(u-v))"
   ]
  },
  {
   "cell_type": "markdown",
   "metadata": {},
   "source": [
    "*Manual Solution*\n",
    "$$\n",
    "\\begin{align}\n",
    "    d(\\textbf{u}, \\textbf{v}) &= ||\\textbf{u} - \\textbf{v}|| \\\\\n",
    "        &= \\sqrt{(1 - 2)^2 + (3 - 1)^2 + ((-4) - 5)^2} \\\\\n",
    "        &= \\sqrt{(-1)^2 + 2^2 + (-9)^2} \\\\\n",
    "        &= \\sqrt{1 + 4 + 81} \\\\\n",
    "        &= \\sqrt{86}\n",
    "\\end{align}\n",
    "$$"
   ]
  },
  {
   "cell_type": "code",
   "execution_count": 86,
   "metadata": {},
   "outputs": [
    {
     "name": "stdout",
     "output_type": "stream",
     "text": [
      "d(w,v) =  3.3166247903554\n"
     ]
    }
   ],
   "source": [
    "import numpy as np\n",
    "u = np.array([1,3,-4])\n",
    "v = np.array([2,1,5])\n",
    "w = np.array([3,-2,6])\n",
    "print(\"d(w,v) = \", np.linalg.norm(w-v))"
   ]
  },
  {
   "cell_type": "markdown",
   "metadata": {},
   "source": [
    "*Manual Solution*\n",
    "$$\n",
    "\\begin{align}\n",
    "    d(\\textbf{w}, \\textbf{v}) &= ||\\textbf{w} - \\textbf{v}|| \\\\\n",
    "        &= \\sqrt{(3 - 2)^2 + ((-2) - 1)^2 + (6 - 5)^2} \\\\\n",
    "        &= \\sqrt{1^2 + (-3)^2 + 1^2} \\\\\n",
    "        &= \\sqrt{1 + 9 + 1} \\\\\n",
    "        &= \\sqrt{11}\n",
    "\\end{align}\n",
    "$$"
   ]
  },
  {
   "cell_type": "code",
   "execution_count": 87,
   "metadata": {},
   "outputs": [
    {
     "name": "stdout",
     "output_type": "stream",
     "text": [
      "d(u,w) =  11.357816691600547\n"
     ]
    }
   ],
   "source": [
    "import numpy as np\n",
    "u = np.array([1,3,-4])\n",
    "v = np.array([2,1,5])\n",
    "w = np.array([3,-2,6])\n",
    "print(\"d(u,w) = \", np.linalg.norm(u-w))"
   ]
  },
  {
   "cell_type": "markdown",
   "metadata": {},
   "source": [
    "*Manual Solution*\n",
    "$$\n",
    "\\begin{align}\n",
    "    d(\\textbf{u}, \\textbf{w}) &= ||\\textbf{u} - \\textbf{w}|| \\\\\n",
    "        &= \\sqrt{(1 - 3)^2 + (3 - (-2))^2 + ((-4) - 6)^2} \\\\\n",
    "        &= \\sqrt{(-2)^2 + 5^2 + (-10)^2} \\\\\n",
    "        &= \\sqrt{4 + 25 + 100} \\\\\n",
    "        &= \\sqrt{129}\n",
    "\\end{align}\n",
    "$$"
   ]
  },
  {
   "cell_type": "code",
   "execution_count": 88,
   "metadata": {},
   "outputs": [
    {
     "name": "stdout",
     "output_type": "stream",
     "text": [
      "proj(u,v) =  [-1.  -0.5 -2.5]\n"
     ]
    }
   ],
   "source": [
    "import numpy as np\n",
    "u = np.array([1,3,-4])\n",
    "v = np.array([2,1,5])\n",
    "w = np.array([3,-2,6])\n",
    "print(\"proj(u,v) = \",u.dot(v)*v/(np.linalg.norm(v)**2) )"
   ]
  },
  {
   "cell_type": "markdown",
   "metadata": {},
   "source": [
    "*Manual Solution*\n",
    "$$\n",
    "\\begin{align}\n",
    "    proj(\\textbf{u}, \\textbf{v}) &= \\frac{\\textbf{u} \\cdotp \\textbf{v}}{||\\textbf{v}||^2} \\textbf{v} \\\\\n",
    "        &= \\frac{(1)(2) + (3)(1) + (-4)(5)}{(\\sqrt{2^2 + 1^2 + 5^2})^2} (2, 1, 5) \\\\\n",
    "        &= \\frac{2 + 3 + (-20)}{(\\sqrt{4 + 1 + 25})^2} (2, 1, 5) \\\\\n",
    "        &= \\frac{-15}{(\\sqrt{30})^2} (2, 1, 5) \\\\\n",
    "        &= \\frac{-15}{30} (2, 1, 5) \\\\\n",
    "        &= (-1, \\frac{-1}{2}, \\frac{-5}{2})\n",
    "\n",
    "\\end{align}\n",
    "$$"
   ]
  },
  {
   "cell_type": "code",
   "execution_count": 89,
   "metadata": {},
   "outputs": [
    {
     "name": "stdout",
     "output_type": "stream",
     "text": [
      "proj(w,v) =  [2.26666667 1.13333333 5.66666667]\n"
     ]
    }
   ],
   "source": [
    "import numpy as np\n",
    "u = np.array([1,3,-4])\n",
    "v = np.array([2,1,5])\n",
    "w = np.array([3,-2,6])\n",
    "print(\"proj(w,v) = \",w.dot(v)*v/(np.linalg.norm(v)**2) )"
   ]
  },
  {
   "cell_type": "markdown",
   "metadata": {},
   "source": [
    "*Manual Solution*\n",
    "$$\n",
    "\\begin{align}\n",
    "    proj(\\textbf{w}, \\textbf{v}) &= \\frac{\\textbf{w} \\cdotp \\textbf{v}}{||\\textbf{v}||^2} \\textbf{v} \\\\\n",
    "        &= \\frac{(3)(2) + (-2)(1) + (6)(5)}{(\\sqrt{2^2 + 1^2 + 5^2})^2} (2, 1, 5)) \\\\\n",
    "        &= \\frac{6 + (-2) + 30}{(\\sqrt{4 + 1 + 25})^2} (2, 1, 5) \\\\\n",
    "        &= \\frac{34}{(\\sqrt{30})^2} (2, 1, 5) \\\\\n",
    "        &= \\frac{34}{30} (2, 1, 5) \\\\\n",
    "        &= (\\frac{68}{30}, \\frac{34}{30}, \\frac{170}{30})\n",
    "\n",
    "\\end{align}\n",
    "$$"
   ]
  },
  {
   "cell_type": "code",
   "execution_count": 90,
   "metadata": {},
   "outputs": [
    {
     "name": "stdout",
     "output_type": "stream",
     "text": [
      "proj(u,w) =  [-1.65306122  1.10204082 -3.30612245]\n"
     ]
    }
   ],
   "source": [
    "import numpy as np\n",
    "u = np.array([1,3,-4])\n",
    "v = np.array([2,1,5])\n",
    "w = np.array([3,-2,6])\n",
    "print(\"proj(u,w) = \",u.dot(w)*w/(np.linalg.norm(w)**2) )"
   ]
  },
  {
   "cell_type": "markdown",
   "metadata": {},
   "source": [
    "*Manual Solution*\n",
    "$$\n",
    "\\begin{align}\n",
    "    proj(\\textbf{u}, \\textbf{w}) &= \\frac{\\textbf{u} \\cdotp \\textbf{w}}{||\\textbf{w}||^2} \\textbf{w} \\\\\n",
    "        &= \\frac{(1)(3) + (3)(-2) + (-4)(6)}{(\\sqrt{3^2 + (-2)^2 + 6^2})^2} (3, -2, 6) \\\\\n",
    "        &= \\frac{3 - 6 - 24}{(\\sqrt{9 + 4 + 36})^2} (3, -2, 6) \\\\\n",
    "        &= \\frac{-27}{(\\sqrt{49})^2} (3, -2, 6) \\\\\n",
    "        &= \\frac{-27}{49} (3, -2, 6) \\\\\n",
    "        &= (\\frac{-81}{49}, \\frac{54}{49}, \\frac{-162}{49})\n",
    "\n",
    "\\end{align}\n",
    "$$"
   ]
  },
  {
   "cell_type": "code",
   "execution_count": 91,
   "metadata": {},
   "outputs": [
    {
     "name": "stdout",
     "output_type": "stream",
     "text": [
      "Number 3\n",
      "4u - 3v =  [ -7 -14  13  45 -24]\n"
     ]
    }
   ],
   "source": [
    "import numpy as np\n",
    "u = np.array([2,-5,4,6,-3])\n",
    "v = np.array([5,-2,1,-7,4])\n",
    "w = np.array([2,1,-3,0,0])\n",
    "print('Number 3')\n",
    "print('4u - 3v = ',4*u - 3*v)"
   ]
  },
  {
   "cell_type": "markdown",
   "metadata": {},
   "source": [
    "*Manual Solution*\n",
    "$$\n",
    "\\begin{align}\n",
    "    4\\textbf{u} - 3\\textbf{v} &= 4(2, (-5), 4, 6, (-3)) - 3(5, (-2), 1, (-7), 4) \\\\\n",
    "        &= (8, (-20), 16, 24, (-12)) - (15, (-6), 3, (-21), 12) \\\\\n",
    "        &= ((8 - 15), ((-20) - (-6)), (16 - 3), (24 - (-21)), ((-12) - 12)) \\\\\n",
    "        &= (-7, -14, 13, 45, -24)\n",
    "\\end{align}\n",
    "$$"
   ]
  },
  {
   "cell_type": "code",
   "execution_count": 92,
   "metadata": {},
   "outputs": [
    {
     "name": "stdout",
     "output_type": "stream",
     "text": [
      "5u + 2v - 2w = [ 16 -31  28  16  -7]\n"
     ]
    }
   ],
   "source": [
    "import numpy as np\n",
    "u = np.array([2,-5,4,6,-3])\n",
    "v = np.array([5,-2,1,-7,4])\n",
    "w = np.array([2,1,-3,0,0])\n",
    "print('5u + 2v - 2w =', 5*u + 2*v -2*w)"
   ]
  },
  {
   "cell_type": "markdown",
   "metadata": {},
   "source": [
    "*Manual Solution*\n",
    "$$\n",
    "\\begin{align}\n",
    "    5\\textbf{u} + 2\\textbf{v} - 2\\textbf{w} &= 5(2, (-5), 4, 6, (-3)) + 2(5, (-2), 1, (-7), (-4)) - 2(2, 1, (-3), 0, 0) \\\\\n",
    "        &= (10, (-25), 20, 30, (-15)) + (10, (-4), 2, (-14), (-8)) - (4, 2, (-6), 0, 0) \\\\\n",
    "        &= ((10 + 10 -4), ((-25) + (-4) - 2), (20 + 2 - (-6)), (30 + (-14) - 0), ((-15) + (-8) - 0)) \\\\\n",
    "        &= (16, (-31), 28, 16, (-23))\n",
    "\\end{align}\n",
    "$$"
   ]
  },
  {
   "cell_type": "code",
   "execution_count": 93,
   "metadata": {},
   "outputs": [
    {
     "name": "stdout",
     "output_type": "stream",
     "text": [
      "u.v = -30   v.w = 5   u.w = -13\n"
     ]
    }
   ],
   "source": [
    "import numpy as np\n",
    "u = np.array([2,-5,4,6,-3])\n",
    "v = np.array([5,-2,1,-7,4])\n",
    "w = np.array([2,1,-3,0,0])\n",
    "print('u.v =', u.dot(v),'  v.w =', v.dot(w), '  u.w =', u.dot(w))"
   ]
  },
  {
   "cell_type": "markdown",
   "metadata": {},
   "source": [
    "*Manual Solution*\n",
    "$$\n",
    "\\begin{align}\n",
    "    \\textbf{u} \\cdotp \\textbf{v} &= (2)(5) + (-5)(-2) + (4)(1) + (6)(-7) + (-3)(-4) \\\\\n",
    "        &= 10 + 10 + 4 + (-42) + 12 \\\\\n",
    "        &= -6\n",
    "\\end{align}\n",
    "$$\n",
    "\n",
    "$$\n",
    "\\begin{align}\n",
    "    \\textbf{v} \\cdotp \\textbf{w} &= (5)(2) + (-2)(1) + (1)(-3) + (-7)(0) + (-4)(0) \\\\\n",
    "        &= 10 + (-2) + (-3) + 0 + 0 \\\\\n",
    "        &= 5\n",
    "\\end{align}\n",
    "$$\n",
    "\n",
    "$$\n",
    "\\begin{align}\n",
    "    \\textbf{u} \\cdotp \\textbf{v} &= (2)(2) + (-5)(1) + (4)(-3) + (6)(0) + (-3)(0) \\\\\n",
    "        &= 4 + (-5) + (-12) + 0 + 0 \\\\\n",
    "        &= -13\n",
    "\\end{align}\n",
    "$$"
   ]
  },
  {
   "cell_type": "code",
   "execution_count": 94,
   "metadata": {},
   "outputs": [
    {
     "name": "stdout",
     "output_type": "stream",
     "text": [
      "||u|| =  9.486832980505138   ||v|| =  9.746794344808963   ||w|| =  2.23606797749979\n"
     ]
    }
   ],
   "source": [
    "import numpy as np\n",
    "u = np.array([2,-5,4,6,-3])\n",
    "v = np.array([5,-2,1,-7,4])\n",
    "w = np.array([2,1,-3,0,0])\n",
    "print('||u|| = ', np.sqrt(u.dot(u)), '  ||v|| = ', np.sqrt(v.dot(v)), '  ||w|| = ', np.sqrt(w.dot(w)))"
   ]
  },
  {
   "cell_type": "markdown",
   "metadata": {},
   "source": [
    "*Manual Solution*\n",
    "$$\n",
    "\\begin{align}\n",
    "    ||\\textbf{u}|| &= \\sqrt{2^2 + (-5)^2 + 4^2 + 6^2 + (-3)^2} \\\\\n",
    "        &= \\sqrt{4 + 25 + 16 + 36 + 9} \\\\\n",
    "        &= \\sqrt{90}\n",
    "\\end{align}\n",
    "$$\n",
    "\n",
    "$$\n",
    "\\begin{align}\n",
    "    ||\\textbf{v}|| &= \\sqrt{5^2 + (-2)^2 + 1^2 + (-7)^2 + (-4)^2} \\\\\n",
    "        &= \\sqrt{25 + 4 + 1 + 49 + 16} \\\\\n",
    "        &= \\sqrt{95}\n",
    "\\end{align}\n",
    "$$\n",
    "\n",
    "$$\n",
    "\\begin{align}\n",
    "    ||\\textbf{w}|| &= \\sqrt{2^2 + 1^2 + (-3)^2 + 0^2 + 0^2} \\\\\n",
    "        &= \\sqrt{4 + 1 + 9 + 0 + 0} \\\\\n",
    "        &= \\sqrt{14}\n",
    "\\end{align}\n",
    "$$"
   ]
  },
  {
   "cell_type": "code",
   "execution_count": 95,
   "metadata": {},
   "outputs": [
    {
     "name": "stdout",
     "output_type": "stream",
     "text": [
      "cos θ = -0.32444284226152514\n"
     ]
    }
   ],
   "source": [
    "import numpy as np\n",
    "u = np.array([2,-5,4,6,-3])\n",
    "v = np.array([5,-2,1,-7,4])\n",
    "w = np.array([2,1,-3,0,0])\n",
    "print(\"cos θ =\",u.dot(v)/(np.linalg.norm(u)*np.linalg.norm(v)))"
   ]
  },
  {
   "cell_type": "markdown",
   "metadata": {},
   "source": [
    "*Manual Solution*\n",
    "$$\n",
    "\\begin{align}\n",
    "    \\cos \\theta &= \\frac{\\textbf{u} \\cdotp \\textbf{v}}{||\\textbf{u}|| ||\\textbf{v}||} \\\\\n",
    "        &= \\frac{(2)(5) + (-5)(-2) + (4)(1) + (6)(-7) + (-3)(-4)}{\\sqrt{2^2 + (-5)^2 + 4^2 + 6^2 + (-3)^2}\n",
    "            \\sqrt{5^2 + (-2)^2 + 1^2 + (-7)^2 + (-4)^2}} \\\\\n",
    "        &= \\frac{10 + 10 + 4 + (-42) + 12}{\\sqrt{4 + 25 + 16 + 36 + 9} \\sqrt{25 + 4 + 1 + 49 + 16}} \\\\\n",
    "        &= \\frac{-6}{\\sqrt{90} \\sqrt{95}}\n",
    "\\end{align}\n",
    "$$"
   ]
  },
  {
   "cell_type": "code",
   "execution_count": 96,
   "metadata": {},
   "outputs": [
    {
     "name": "stdout",
     "output_type": "stream",
     "text": [
      "cos α  = 0.13710212427677046\n"
     ]
    }
   ],
   "source": [
    "import numpy as np\n",
    "u = np.array([2,-5,4,6,-3])\n",
    "v = np.array([5,-2,1,-7,4])\n",
    "w = np.array([2,1,-3,0,0])\n",
    "print(\"cos α  =\",v.dot(w)/(np.linalg.norm(v)*np.linalg.norm(w)))"
   ]
  },
  {
   "cell_type": "markdown",
   "metadata": {},
   "source": [
    "*Manual Solution*\n",
    "$$\n",
    "\\begin{align}\n",
    "    \\cos \\alpha &= \\frac{\\textbf{v} \\cdotp \\textbf{w}}{||\\textbf{v}|| ||\\textbf{w}||} \\\\\n",
    "        &= \\frac{(5)(2) + (-2)(1) + (1)(-3) + (-7)(0) + (-4)(0)}{\\sqrt{5^2 + (-2)^2 + 1^2 + (-7)^2 + (-4)^2}\n",
    "            \\sqrt{2^2 + 1^2 + (-3)^2 + 0^2 + 0^2}} \\\\\n",
    "        &= \\frac{10 + (-2) + (-3) + 0 + 0}{\\sqrt{25 + 4 + 1 + 49 + 16} \\sqrt{4 + 1 + 9 + 0 + 0}} \\\\\n",
    "        &= \\frac{5}{\\sqrt{95} \\sqrt{14}}\n",
    "\\end{align}\n",
    "$$"
   ]
  },
  {
   "cell_type": "code",
   "execution_count": 97,
   "metadata": {},
   "outputs": [
    {
     "name": "stdout",
     "output_type": "stream",
     "text": [
      "cos β  = -0.3662335103823572\n"
     ]
    }
   ],
   "source": [
    "import numpy as np\n",
    "u = np.array([2,-5,4,6,-3])\n",
    "v = np.array([5,-2,1,-7,4])\n",
    "w = np.array([2,1,-3,0,0])\n",
    "print(\"cos β  =\",u.dot(w)/(np.linalg.norm(u)*np.linalg.norm(w)))"
   ]
  },
  {
   "cell_type": "markdown",
   "metadata": {},
   "source": [
    "*Manual Solution*\n",
    "$$\n",
    "\\begin{align}\n",
    "    \\cos \\beta &= \\frac{\\textbf{u} \\cdotp \\textbf{w}}{||\\textbf{u}|| ||\\textbf{w}||} \\\\\n",
    "        &= \\frac{(2)(2) + (-5)(1) + (4)(-3) + (6)(0) + (-3)(0)}{\\sqrt{2^2 + (-5)^2 + 4^2 + 6^2 + (-3)^2}\n",
    "            \\sqrt{2^2 + 1^2 + (-3)^2 + 0^2 + 0^2}} \\\\\n",
    "        &= \\frac{4 + (-5) + (-12) + 0 + 0}{\\sqrt{4 + 25 + 16 + 36 + 9} \\sqrt{4 + 1 + 9 + 0 + 0}} \\\\\n",
    "        &= \\frac{-13}{\\sqrt{90} \\sqrt{14}}\n",
    "\\end{align}\n",
    "$$"
   ]
  },
  {
   "cell_type": "code",
   "execution_count": 98,
   "metadata": {},
   "outputs": [
    {
     "name": "stdout",
     "output_type": "stream",
     "text": [
      "d(u,v) =  15.652475842498529\n"
     ]
    }
   ],
   "source": [
    "import numpy as np\n",
    "u = np.array([2,-5,4,6,-3])\n",
    "v = np.array([5,-2,1,-7,4])\n",
    "w = np.array([2,1,-3,0,0])\n",
    "print(\"d(u,v) = \", np.linalg.norm(u-v))\n"
   ]
  },
  {
   "cell_type": "markdown",
   "metadata": {},
   "source": [
    "*Manual Solution*\n",
    "$$\n",
    "\\begin{align}\n",
    "    d(\\textbf{u}, \\textbf{v}) &= ||\\textbf{u - v}|| \\\\\n",
    "        &= \\sqrt{(2 - 5)^2 + ((-5) - (-2))^2 + (4 - 1)^2 + (6 - (-7))^2 + ((-3) - (-4))^2} \\\\\n",
    "        &= \\sqrt{(-3)^2 + (-3)^2 + 3^2 + 13^2 + 1^2} \\\\\n",
    "        &= \\sqrt{9 + 9 + 9 + 169 + 1} \\\\\n",
    "        &= \\sqrt{197}\n",
    "\\end{align}\n",
    "$$"
   ]
  },
  {
   "cell_type": "code",
   "execution_count": 99,
   "metadata": {},
   "outputs": [
    {
     "name": "stdout",
     "output_type": "stream",
     "text": [
      "d(w,v) =  9.9498743710662\n"
     ]
    }
   ],
   "source": [
    "import numpy as np\n",
    "u = np.array([2,-5,4,6,-3])\n",
    "v = np.array([5,-2,1,-7,4])\n",
    "w = np.array([2,1,-3,0,0])\n",
    "print(\"d(w,v) = \", np.linalg.norm(w-v))"
   ]
  },
  {
   "cell_type": "markdown",
   "metadata": {},
   "source": [
    "*Manual Solution*\n",
    "$$\n",
    "\\begin{align}\n",
    "    d(\\textbf{w}, \\textbf{v}) &= ||\\textbf{w - v}|| \\\\\n",
    "        &= \\sqrt{(2 - 5)^2 + (1 - (-2))^2 + ((-3) - 1)^2 + (0 - (-7))^2 + (0 - (-4))^2} \\\\\n",
    "        &= \\sqrt{(-3)^2 + 3^2 + 4^2 + 7^2 + 4^2} \\\\\n",
    "        &= \\sqrt{9 + 9 + 16 + 49 + 16} \\\\\n",
    "        &= \\sqrt{99}\n",
    "\\end{align}\n",
    "$$"
   ]
  },
  {
   "cell_type": "code",
   "execution_count": 100,
   "metadata": {},
   "outputs": [
    {
     "name": "stdout",
     "output_type": "stream",
     "text": [
      "d(u,w) =  11.40175425099138\n"
     ]
    }
   ],
   "source": [
    "import numpy as np\n",
    "u = np.array([2,-5,4,6,-3])\n",
    "v = np.array([5,-2,1,-7,4])\n",
    "w = np.array([2,1,-3,0,0])\n",
    "print(\"d(u,w) = \", np.linalg.norm(u-w))"
   ]
  },
  {
   "cell_type": "markdown",
   "metadata": {},
   "source": [
    "*Manual Solution*\n",
    "$$\n",
    "\\begin{align}\n",
    "    d(\\textbf{u}, \\textbf{w}) &= ||\\textbf{u - w}|| \\\\\n",
    "        &= \\sqrt{(2 - 2)^2 + ((-5) - 1)^2 + (4 - (-3))^2 + (6 - 0)^2 + ((-3) - 0)^2} \\\\\n",
    "        &= \\sqrt{0^2 + (-6)^2 + 7^2 + 6^2 + (-3)^2} \\\\\n",
    "        &= \\sqrt{0 + 36 + 49 + 36 + 9} \\\\\n",
    "        &= \\sqrt{130}\n",
    "\\end{align}\n",
    "$$"
   ]
  },
  {
   "cell_type": "code",
   "execution_count": 101,
   "metadata": {},
   "outputs": [
    {
     "name": "stdout",
     "output_type": "stream",
     "text": [
      "proj(u,v) =  [-1.57894737  0.63157895 -0.31578947  2.21052632 -1.26315789]\n"
     ]
    }
   ],
   "source": [
    "import numpy as np\n",
    "u = np.array([2,-5,4,6,-3])\n",
    "v = np.array([5,-2,1,-7,4])\n",
    "w = np.array([2,1,-3,0,0])\n",
    "print(\"proj(u,v) = \",u.dot(v)*v/(np.linalg.norm(v)**2) )"
   ]
  },
  {
   "cell_type": "markdown",
   "metadata": {},
   "source": [
    "*Manual Solution*\n",
    "$$\n",
    "\\begin{align}\n",
    "    proj(\\textbf{u}, \\textbf{v}) &= \\frac{\\textbf{u} \\cdotp \\textbf{v}}{||\\textbf{v}||^2}\\textbf{v} \\\\\n",
    "        &= \\frac{(2)(5) + (-5)(-2) + (4)(1) + (6)(-7) + (-3)(-4)}{(\\sqrt{5^2 + (-2)^2 + 1^2 + (-7)^2 + (-4)^2})^2} (5, -2, 1, -7, -4) \\\\\n",
    "        &= \\frac{10 + 10 + 4 + (-42) + 12}{(\\sqrt{25 + 4 + 1 + 49 + 16})^2} (5, -2, 1, -7, -4) \\\\\n",
    "        &= \\frac{-6}{(\\sqrt{95})^2} (5, -2, 1, -7, -4) \\\\\n",
    "        &= \\frac{-6}{95} (5, -2, 1, -7, -4) \\\\\n",
    "        &= (\\frac{-6}{19}, \\frac{12}{95}, \\frac{-6}{95}, \\frac{42}{95}, \\frac{24}{95})\n",
    "\\end{align}\n",
    "$$"
   ]
  },
  {
   "cell_type": "code",
   "execution_count": 102,
   "metadata": {},
   "outputs": [
    {
     "name": "stdout",
     "output_type": "stream",
     "text": [
      "proj(w,v) =  [ 0.26315789 -0.10526316  0.05263158 -0.36842105  0.21052632]\n"
     ]
    }
   ],
   "source": [
    "import numpy as np\n",
    "u = np.array([2,-5,4,6,-3])\n",
    "v = np.array([5,-2,1,-7,4])\n",
    "w = np.array([2,1,-3,0,0])\n",
    "print(\"proj(w,v) = \",w.dot(v)*v/(np.linalg.norm(v)**2) )"
   ]
  },
  {
   "cell_type": "markdown",
   "metadata": {},
   "source": [
    "*Manual Solution*\n",
    "$$\n",
    "\\begin{align}\n",
    "    proj(\\textbf{w}, \\textbf{v}) &= \\frac{\\textbf{w} \\cdotp \\textbf{v}}{||\\textbf{v}||^2}\\textbf{v} \\\\\n",
    "        &= \\frac{(2)(5) + (1)(-2) + (-3)(1) + (0)(-7) + (0)(-4)}{(\\sqrt{5^2 + (-2)^2 + 1^2 + (-7)^2 + (-4)^2})^2} (5, -2, 1, -7, -4) \\\\\n",
    "        &= \\frac{10 + (-2) + (-3) + 0 + 0}{(\\sqrt{25 + 4 + 1 + 49 + 16})^2} (5, -2, 1, -7, -4) \\\\\n",
    "        &= \\frac{5}{(\\sqrt{95})^2} (5, -2, 1, -7, -4) \\\\\n",
    "        &= \\frac{5}{95} (5, -2, 1, -7, -4) \\\\\n",
    "        &= (\\frac{5}{19}, \\frac{-2}{19}, \\frac{5}{95}, \\frac{-7}{19}, \\frac{-4}{19})\n",
    "\\end{align}\n",
    "$$"
   ]
  },
  {
   "cell_type": "code",
   "execution_count": 103,
   "metadata": {},
   "outputs": [
    {
     "name": "stdout",
     "output_type": "stream",
     "text": [
      "proj(u,w) =  [-1.85714286 -0.92857143  2.78571429  0.          0.        ]\n"
     ]
    }
   ],
   "source": [
    "import numpy as np\n",
    "u = np.array([2,-5,4,6,-3])\n",
    "v = np.array([5,-2,1,-7,4])\n",
    "w = np.array([2,1,-3,0,0])\n",
    "print(\"proj(u,w) = \",u.dot(w)*w/(np.linalg.norm(w)**2) )"
   ]
  },
  {
   "cell_type": "markdown",
   "metadata": {},
   "source": [
    "*Manual Solution*\n",
    "$$\n",
    "\\begin{align}\n",
    "    proj(\\textbf{u}, \\textbf{w}) &= \\frac{\\textbf{u} \\cdotp \\textbf{w}}{||\\textbf{w}||^2}\\textbf{w} \\\\\n",
    "        &= \\frac{(2)(2) + (-5)(1) + (4)(-3) + (6)(0) + (-3)(0)}{(\\sqrt{2^2 + 1^2 + (-3)^2 + 0^2 + 0^2})^2} (2, 1, -3, 0, 0) \\\\\n",
    "        &= \\frac{4 + (-5) + (-12) + 0 + 0}{(\\sqrt{4 + 1 + 9 + 0 + 0})^2} (2, 1, -3, 0, 0) \\\\\n",
    "        &= \\frac{-13}{(\\sqrt{14})^2} (2, 1, -3, 0, 0) \\\\\n",
    "        &= \\frac{-13}{14} (2, 1, -3, 0, 0) \\\\\n",
    "        &= (\\frac{-13}{7}, \\frac{-13}{14}, \\frac{39}{14}, 0, 0)\n",
    "\\end{align}\n",
    "$$"
   ]
  },
  {
   "cell_type": "code",
   "execution_count": 104,
   "metadata": {},
   "outputs": [
    {
     "name": "stdout",
     "output_type": "stream",
     "text": [
      "Number 4\n",
      "u':  [ 0.58123819 -0.81373347]\n"
     ]
    }
   ],
   "source": [
    "import numpy as np\n",
    "u = np.array([5,-7])\n",
    "v = np.array([1,2,-2,4])\n",
    "w = np.array([1/2,-1/3,3/4])\n",
    "print('Number 4')\n",
    "print(\"u': \", u/np.sqrt(u.dot(u)))"
   ]
  },
  {
   "cell_type": "markdown",
   "metadata": {},
   "source": [
    "*Manual Solution*\n",
    "$$\n",
    "\\begin{align}\n",
    "    ||\\textbf{u}|| &= \\sqrt{5^2 + (-7)^2} \\\\\n",
    "        &= \\sqrt{25 + 49} \\\\\n",
    "        &= \\sqrt{74}\n",
    "\\end{align}\n",
    "$$"
   ]
  },
  {
   "cell_type": "code",
   "execution_count": 105,
   "metadata": {},
   "outputs": [
    {
     "name": "stdout",
     "output_type": "stream",
     "text": [
      "v':  [ 0.2  0.4 -0.4  0.8]\n"
     ]
    }
   ],
   "source": [
    "import numpy as np\n",
    "u = np.array([5,-7])\n",
    "v = np.array([1,2,-2,4])\n",
    "w = np.array([1/2,-1/3,3/4])\n",
    "print(\"v': \", v/np.sqrt(v.dot(v)))"
   ]
  },
  {
   "cell_type": "markdown",
   "metadata": {},
   "source": [
    "*Manual Solution*\n",
    "$$\n",
    "\\begin{align}\n",
    "    ||\\textbf{v}|| &= \\sqrt{1^2 + 2^2 + (-2)^2 + 4^2} \\\\\n",
    "        &= \\sqrt{1 + 4 + 4 + 16} \\\\\n",
    "        &= \\sqrt{25}\n",
    "\\end{align}\n",
    "$$"
   ]
  },
  {
   "cell_type": "code",
   "execution_count": 106,
   "metadata": {},
   "outputs": [
    {
     "name": "stdout",
     "output_type": "stream",
     "text": [
      "w':  [ 0.52026598 -0.34684399  0.78039897]\n"
     ]
    }
   ],
   "source": [
    "import numpy as np\n",
    "u = np.array([5,-7])\n",
    "v = np.array([1,2,-2,4])\n",
    "w = np.array([1/2,-1/3,3/4])\n",
    "print(\"w': \", w/np.sqrt(w.dot(w)))"
   ]
  },
  {
   "cell_type": "markdown",
   "metadata": {},
   "source": [
    "*Manual Solution*\n",
    "$$\n",
    "\\begin{align}\n",
    "    ||\\textbf{w}|| &= \\sqrt{\\frac{1}{2}^2 + \\frac{-1}{3}^2 + \\frac{3}{4}^2} \\\\\n",
    "        &= \\sqrt{\\frac{1}{4} + \\frac{1}{9} + \\frac{9}{16}} \\\\\n",
    "        &= \\sqrt{\\frac{133}{144}}\n",
    "\\end{align}\n",
    "$$"
   ]
  },
  {
   "cell_type": "code",
   "execution_count": 107,
   "metadata": {},
   "outputs": [
    {
     "name": "stdout",
     "output_type": "stream",
     "text": [
      "Number 5\n",
      "||u|| =  3.0\n"
     ]
    }
   ],
   "source": [
    "import numpy as np\n",
    "u = np.array([1,2,-2])\n",
    "v = np.array([3,-12,4])\n",
    "k=3\n",
    "print('Number 5')\n",
    "print('||u|| = ', np.sqrt(u.dot(u)))"
   ]
  },
  {
   "cell_type": "markdown",
   "metadata": {},
   "source": [
    "*Manual Solution*\n",
    "$$\n",
    "\\begin{align}\n",
    "    ||\\textbf{u}|| &= \\sqrt{1^2 + 2^2 + (-2)^2} \\\\\n",
    "        &= \\sqrt{2 + 4 + 4} \\\\\n",
    "        &= \\sqrt{9}\n",
    "\\end{align}\n",
    "$$"
   ]
  },
  {
   "cell_type": "code",
   "execution_count": 108,
   "metadata": {},
   "outputs": [
    {
     "name": "stdout",
     "output_type": "stream",
     "text": [
      "||v|| =  13.0\n"
     ]
    }
   ],
   "source": [
    "import numpy as np\n",
    "u = np.array([1,2,-2])\n",
    "v = np.array([3,-12,4])\n",
    "k=3\n",
    "print('||v|| = ', np.sqrt(v.dot(v)))"
   ]
  },
  {
   "cell_type": "markdown",
   "metadata": {},
   "source": [
    "*Manual Solution*\n",
    "$$\n",
    "\\begin{align}\n",
    "    ||\\textbf{v}|| &= \\sqrt{3^2 + (-12)^2 + 4^2} \\\\\n",
    "        &= \\sqrt{9 + 144 + 16} \\\\\n",
    "        &= \\sqrt{169}\n",
    "\\end{align}\n",
    "$$"
   ]
  },
  {
   "cell_type": "code",
   "execution_count": 109,
   "metadata": {},
   "outputs": [
    {
     "name": "stdout",
     "output_type": "stream",
     "text": [
      "|| u + v || =  16.0\n"
     ]
    }
   ],
   "source": [
    "import numpy as np\n",
    "u = np.array([1,2,-2])\n",
    "v = np.array([3,-12,4])\n",
    "k=3\n",
    "print('|| u + v || = ', (np.sqrt(u.dot(u))+np.sqrt(v.dot(v))))"
   ]
  },
  {
   "cell_type": "markdown",
   "metadata": {},
   "source": [
    "*Manual Solution*\n",
    "$$\n",
    "\\begin{align}\n",
    "    ||\\textbf{u + v}|| &= \\sqrt{(1 + 3)^2 + (2 + (-12))^2 + ((-2) + 4)^2} \\\\\n",
    "        &= \\sqrt{4^2 + (-10)^2 + 2^2} \\\\\n",
    "        &= \\sqrt{16 + 100 + 4} \\\\\n",
    "        &= \\sqrt{120}\n",
    "\\end{align}\n",
    "$$"
   ]
  },
  {
   "cell_type": "code",
   "execution_count": 110,
   "metadata": {},
   "outputs": [
    {
     "name": "stdout",
     "output_type": "stream",
     "text": [
      "||ku|| =  9.0\n"
     ]
    }
   ],
   "source": [
    "import numpy as np\n",
    "u = np.array([1,2,-2])\n",
    "v = np.array([3,-12,4])\n",
    "k=3\n",
    "print('||ku|| = ',k*np.sqrt(u.dot(u)))"
   ]
  },
  {
   "cell_type": "markdown",
   "metadata": {},
   "source": [
    "*Manual Solution*\n",
    "$$\n",
    "\\begin{align}\n",
    "    ||\\textbf{ku}|| &= \\sqrt{((-3)(1))^2 + ((-3)(2))^2 + ((-3)(-2))^2} \\\\\n",
    "        &= \\sqrt{(-3)^2 + (-6)^2 + 6^2} \\\\\n",
    "        &= \\sqrt{9 + 36 + 36} \\\\\n",
    "        &= \\sqrt{81}\n",
    "\\end{align}\n",
    "$$"
   ]
  },
  {
   "cell_type": "code",
   "execution_count": 111,
   "metadata": {},
   "outputs": [
    {
     "name": "stdout",
     "output_type": "stream",
     "text": [
      "Number 6a\n",
      "k =  6\n",
      "u and v are orthogonal.\n"
     ]
    }
   ],
   "source": [
    "print('Number 6a')\n",
    "import numpy as np\n",
    "k = 6\n",
    "u = np.array([3 ,k,-2])\n",
    "v = np.array([6,-4,-3])\n",
    "ortho = u.dot(v)\n",
    "\n",
    "print('k = ',k)\n",
    "if ortho == 0:\n",
    "    print('u and v are orthogonal.')\n",
    "else:\n",
    "    print('u and v are NOT orthogonal.')"
   ]
  },
  {
   "cell_type": "markdown",
   "metadata": {},
   "source": [
    "*Manual Solution*\n",
    "$$\n",
    "\\begin{align}\n",
    "    \\textbf{u} \\cdotp \\textbf{v} &= 0 \\\\\n",
    "        (3)(6) + (\\textbf{k})(-4) + (-2)(-3) &= 0 \\\\\n",
    "        18 + (-4k) + 6 &= 0 \\\\\n",
    "        -4k + 24 &= 0 \\\\\n",
    "        \\frac{-4k}{-4} &= \\frac{-24}{-4} \\\\\n",
    "        k &= 6\n",
    "\\end{align}\n",
    "$$"
   ]
  },
  {
   "cell_type": "code",
   "execution_count": 112,
   "metadata": {},
   "outputs": [
    {
     "name": "stdout",
     "output_type": "stream",
     "text": [
      "Number 6b\n",
      "k =  3\n",
      "u and v are orthogonal.\n"
     ]
    }
   ],
   "source": [
    "print('Number 6b')\n",
    "import numpy as np\n",
    "k = 3\n",
    "u = np.array([5 ,k,-4,2])\n",
    "v = np.array([1,-3,2,2*k])\n",
    "\n",
    "ortho = u.dot(v)\n",
    "\n",
    "print('k = ',k)\n",
    "if ortho == 0:\n",
    "    print('u and v are orthogonal.')\n",
    "else:\n",
    "    print('u and v are NOT orthogonal.')"
   ]
  },
  {
   "cell_type": "markdown",
   "metadata": {},
   "source": [
    "*Manual Solution*\n",
    "$$\n",
    "\\begin{align}\n",
    "    \\textbf{u} \\cdotp \\textbf{v} &= 0 \\\\\n",
    "        (5)(1) + (\\textbf{k})(-3) + (-4)(2) + (2)(2)(\\textbf{k})&= 0 \\\\\n",
    "        5 + (-3k) + (-8) + (4k) &= 0 \\\\\n",
    "        k - 3 &= 0 \\\\\n",
    "        k &= 3\n",
    "\\end{align}\n",
    "$$"
   ]
  },
  {
   "cell_type": "code",
   "execution_count": 113,
   "metadata": {},
   "outputs": [
    {
     "name": "stdout",
     "output_type": "stream",
     "text": [
      "Number 6c\n",
      "k =  1.5\n",
      "u and v are orthogonal.\n"
     ]
    }
   ],
   "source": [
    "print('Number 6c')\n",
    "import numpy as np\n",
    "k = 3/2\n",
    "u = np.array([1,7,k+2,-2])\n",
    "v = np.array([3,k,-3,k])\n",
    "\n",
    "ortho = u.dot(v)\n",
    "\n",
    "print('k = ',k)\n",
    "if ortho == 0:\n",
    "    print('u and v are orthogonal.')\n",
    "else:\n",
    "    print('u and v are NOT orthogonal.')"
   ]
  },
  {
   "cell_type": "markdown",
   "metadata": {},
   "source": [
    "*Manual Solutions Here*\n",
    "$$\n",
    "\\begin{align}\n",
    "    \\textbf{u} \\cdotp \\textbf{v} &= 0 \\\\\n",
    "    (1)(3) + (7)(\\textbf{k}) + (\\textbf{k} + 2)(-3) + (-2)(\\textbf{k}) &= 0 \\\\\n",
    "    3 + 7\\textbf{k} + (-3\\textbf{k} - 6) + -2\\textbf{k} &= 0 \\\\\n",
    "    7\\textbf{k} -3\\textbf{k} -2\\textbf{k} + 3 - 6 &= 0 \\\\\n",
    "    2k - 3 &= 0 \\\\\n",
    "    \\frac{2k}{2} &= \\frac{3}{2} \\\\\n",
    "    k &= \\frac{3}{2}\n",
    "\\end{align}\n",
    "$$"
   ]
  }
 ],
 "metadata": {
  "kernelspec": {
   "display_name": "Linear_Algebra",
   "language": "python",
   "name": "python3"
  },
  "language_info": {
   "codemirror_mode": {
    "name": "ipython",
    "version": 3
   },
   "file_extension": ".py",
   "mimetype": "text/x-python",
   "name": "python",
   "nbconvert_exporter": "python",
   "pygments_lexer": "ipython3",
   "version": "3.11.5"
  },
  "orig_nbformat": 4
 },
 "nbformat": 4,
 "nbformat_minor": 2
}
