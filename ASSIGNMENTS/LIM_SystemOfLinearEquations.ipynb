{
 "cells": [
  {
   "cell_type": "markdown",
   "id": "cb0368e0-3ab8-4f59-a643-d34dee0a40fa",
   "metadata": {},
   "source": [
    "# <font color = red> Assignment 2 </font>\n",
    "---\n",
    "**INSTRUCTION**\n",
    "- Use latex programming to show your manual solutions.\n",
    "- If the problem involves determining the row echelon or reduced row echelon, show both the manual and the pythonic solutions.\n",
    "- Solutions must be saved as a jupyter notebook.\n",
    "- Push your solutions to your forked github repo.\n",
    "- Note that there is some **possibility** that some ,or all, of your exam questions will be taken from these assignment.\n",
    "- The technique here is to first solve manually before writing in Latex.\n",
    "---"
   ]
  },
  {
   "cell_type": "code",
   "execution_count": null,
   "id": "eb6ce895-ab43-40a4-8a1a-f76e5f60e816",
   "metadata": {},
   "outputs": [],
   "source": []
  }
 ],
 "metadata": {
  "kernelspec": {
   "display_name": "Python 3 (ipykernel)",
   "language": "python",
   "name": "python3"
  },
  "language_info": {
   "codemirror_mode": {
    "name": "ipython",
    "version": 3
   },
   "file_extension": ".py",
   "mimetype": "text/x-python",
   "name": "python",
   "nbconvert_exporter": "python",
   "pygments_lexer": "ipython3",
   "version": "3.11.5"
  }
 },
 "nbformat": 4,
 "nbformat_minor": 5
}
