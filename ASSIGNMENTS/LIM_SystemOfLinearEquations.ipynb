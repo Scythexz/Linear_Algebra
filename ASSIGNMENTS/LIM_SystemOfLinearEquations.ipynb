{
 "cells": [
  {
   "cell_type": "markdown",
   "id": "cb0368e0-3ab8-4f59-a643-d34dee0a40fa",
   "metadata": {},
   "source": [
    "# <font color = red> ASSIGNMENT 1</font>\n",
    "- The above python functions are developed to automate forward elimination.\n",
    "- To complete the process of determining the solution, create a function or steps of function that will automate backward substitution.n."
   ]
  },
  {
   "cell_type": "code",
   "execution_count": 3,
   "id": "eb6ce895-ab43-40a4-8a1a-f76e5f60e816",
   "metadata": {},
   "outputs": [],
   "source": [
    "import numpy as np\n",
    "A = np.array([[1,-1,1,3],[0,1,2,4],[0,0,1,2],[0,0,0,0],[0,0,0,0]]) \n",
    "\n",
    "def BackwardSubstitution(A):\n",
    "    m, n = A.shape \n",
    "    while m > 0 and np.all(A[m-1, n-2:] == 0):\n",
    "        m -= 1\n",
    "    if m == 0:\n",
    "        return \"There is no solution.\"\n",
    "    elif n - 1 > m:\n",
    "        return \"There are infinite solutions.\"\n",
    "    solutions = np.zeros(m)\n",
    "    for j in range(m - 1, -1, -1):\n",
    "        r_coefficients = A[j, :-1]\n",
    "        constants = A[j, -1]\n",
    "        if np.all(r_coefficients == 0):\n",
    "            return \"There are no solutions.\"\n",
    "        result = np.dot(solutions, r_coefficients)\n",
    "        solutions[j] = (constants - result) / r_coefficients[j]\n",
    "    pass\n",
    "    return solutions"
   ]
  },
  {
   "cell_type": "markdown",
   "id": "85bb5af6-8bf2-4c7c-ac4a-6421f52a4cd8",
   "metadata": {},
   "source": [
    "Backwards"
   ]
  },
  {
   "cell_type": "code",
   "execution_count": null,
   "id": "c2a69fb1-e528-4dda-a355-61aaba90098e",
   "metadata": {},
   "outputs": [],
   "source": [
    "# using pythonic solutions\n",
    "import numpy as np\n",
    "A=np.array([[1,-1,1,3],[2,1,8,18],[4,2,-3,-2]])\n",
    "\n",
    "## Add -2 times row 0 to row 1\n",
    "A1 = RowAdd(A,0,1,-2)\n",
    "print(\"A1\")\n",
    "print(A1,'\\n')\n",
    "\n",
    "## Add -4 times row 0 to row 2\n",
    "A2 = RowAdd(A1,0,2,-4)\n",
    "print(\"A2\")\n",
    "print(A2,'\\n')\n",
    "\n",
    "## Add -2 times row 1 to row 2\n",
    "A3 = RowAdd(A2,1,2,-2)\n",
    "print(\"A3\")\n",
    "print(A3,'\\n')\n",
    "\n",
    "## Multiply row 1 by 1/3\n",
    "A4 = RowScale(A3,1,1.0/3)\n",
    "print(\"A4\")\n",
    "print(A4,'\\n')\n",
    "\n",
    "## Multiply row 2 by 1/19\n",
    "A5 = RowScale(A4,2,1.0/-19.)\n",
    "print(\"A5\")\n",
    "print(A5,'\\n')\n",
    "print(\"Use your assignment for the backward substitution to find the solutions.\")\n",
    "\n",
    "## Assignment 1\n",
    "print(\"Solutions x_1, x_2, x_3:\")\n",
    "print(BackwardSubstitution(A5))"
   ]
  },
  {
   "cell_type": "markdown",
   "id": "1725d6d2-5c95-4541-8a9d-86bf25a75e66",
   "metadata": {},
   "source": [
    "# <font color = red> Assignment 2 </font>\n",
    "---\n",
    "**INSTRUCTION**\n",
    "- Use latex programming to show your manual solutions.\n",
    "- If the problem involves determining the row echelon or reduced row echelon, show both the manual and the pythonic solutions.\n",
    "- Solutions must be saved as a jupyter notebook.\n",
    "- Push your solutions to your forked github repo.\n",
    "- Note that there is some **possibility** that some ,or all, of your exam questions will be taken from these assignment.\n",
    "- The technique here is to first solve manually before writing in Latex.\n",
    "---"
   ]
  },
  {
   "cell_type": "markdown",
   "id": "8402de87-065c-4721-8e54-c9b4c395ba6e",
   "metadata": {},
   "source": [
    "1. Provide reasons why each of the following equations is, or is not, a linear equation.\n",
    "\n",
    "- $\\cos{\\theta}x+4y+z = \\sqrt{3}$ <br />\n",
    "Not considered linear due to the inclusion of a trigonometric function (cos), which deviates from the criteria of a linear equation. In linear equations, variables such as x, y, and z are expected to appear in a linear manner without the involvement of non-linear or trigonometric functions.\n",
    "\n",
    "\n",
    "- $cos{x}4y+z = \\sqrt{3}$ <br />\n",
    "Non-linearity arises from the presence of the trigonometric function cos(x) in conjunction with the multiplication of 4y and its combination with z.\n",
    "\n",
    "\n",
    "- $x^{-1}+7y+z = \\sin{(\\frac{\\pi}{2})}$ <br />\n",
    "The non-linearity stems from the inclusion of an exponent of -1. In linear equations, exponents are expected to be 1, and the presence of an exponent other than 1 renders the equation non-linear.\n",
    "\n",
    "\n",
    "- $x^1+y^1+z^1=0$ <br />\n",
    "It is linear since all variables x, y, z are raised to the power of 1, aligning with the definition of a linear equation.\n",
    "\r\n",
    "\r\n",
    "\r\n"
   ]
  },
  {
   "cell_type": "markdown",
   "id": "2b588ed8-8e19-436d-b244-2856a0491d2e",
   "metadata": {},
   "source": [
    "----------------------------------------------------------------------------------------------------------------------------"
   ]
  },
  {
   "cell_type": "markdown",
   "id": "f61aac03-8712-484e-bd4d-c56f32aff344",
   "metadata": {},
   "source": [
    "2. Find the solutions to the linear equations:\n",
    "- $2x_1+3x_2 =5$ <br />\n",
    "  $$2x_1 + 3x_2 = 5 \\implies x_1 = \\frac{5 - 3x_2}{2}$$\n",
    "- $4x_1+3x_2+2x_3=1$ <br />\n",
    "  $$4x_1 + 3x_2 + 2x_3 = 1 \\implies x_3 = \\frac{1 - 4x_1 - 3x_2}{2}$$\n",
    "- $3x-6y=0$ <br />\n",
    "  $$3x - 6y = 0 \\implies x = 2y$$"
   ]
  },
  {
   "cell_type": "code",
   "execution_count": 4,
   "id": "b11d311c-0bfd-4adf-afb4-2445509a5760",
   "metadata": {},
   "outputs": [
    {
     "name": "stdout",
     "output_type": "stream",
     "text": [
      "Equation 1 Result: \n",
      "[(5/2 - 3*x2/2, x2)]\n"
     ]
    }
   ],
   "source": [
    "import sympy as sp\n",
    "\n",
    "x1, x2 = sp.symbols('x1 x2')\n",
    "equation_1 = sp.Eq(2*x1 + 3*x2, 5)\n",
    "solution_1 = sp.solve(equation_1, (x1, x2))\n",
    "\n",
    "print(\"Equation 1 Result: \")\n",
    "print(solution_1)"
   ]
  },
  {
   "cell_type": "code",
   "execution_count": 5,
   "id": "e7e0bebf-efc7-4203-a0f5-58f54fd70d27",
   "metadata": {},
   "outputs": [
    {
     "name": "stdout",
     "output_type": "stream",
     "text": [
      "Equation 2 Result: \n",
      "[(-3*x2/4 - x3/2 + 1/4, x2)]\n"
     ]
    }
   ],
   "source": [
    "import sympy as sp\n",
    "\n",
    "x1, x2, x3 = sp.symbols('x1 x2 x3')\n",
    "equation_2 = sp.Eq(4*x1 + 3*x2 + 2*x3, 1)\n",
    "solution_2 = sp.solve(equation_2, (x1, x2, ))\n",
    "\n",
    "print(\"Equation 2 Result: \")\n",
    "print(solution_2)"
   ]
  },
  {
   "cell_type": "code",
   "execution_count": 6,
   "id": "3a00770b-2e94-4002-ab93-a82c4a51e347",
   "metadata": {},
   "outputs": [
    {
     "name": "stdout",
     "output_type": "stream",
     "text": [
      "Equation 3 Result: \n",
      "[2*y]\n"
     ]
    }
   ],
   "source": [
    "import sympy as sp\n",
    "\n",
    "x, y = sp.symbols('x y')\n",
    "equation_3 = sp.Eq(3*x - 6*y, 0)\n",
    "solution_3 = sp.solve(equation_3, x)\n",
    "\n",
    "print(\"Equation 3 Result: \")\n",
    "print(solution_3)"
   ]
  },
  {
   "cell_type": "markdown",
   "id": "bf57a5ec-822e-4f87-9b08-c4be1b570ca9",
   "metadata": {},
   "source": [
    "----------------------------------------------------------------------------------------------------------------------------"
   ]
  },
  {
   "cell_type": "markdown",
   "id": "268bf407-e8e6-4db0-a7c7-dc123964ca77",
   "metadata": {},
   "source": [
    "3. Solve the following systems of linear equations:\n",
    "- $L1: x - y = 0, \\ L2: 2x + y = 3$\n",
    "    - *Forward Elimination:*\n",
    "        - $-2(x - y = 0)$\n",
    "        - $-2x + 2y = 0$\n",
    "    - *Add L1 and L2:*\n",
    "        - $\\frac{3y}{3} = \\frac{3}{3}$\n",
    "        - $y = 1$\n",
    "    - *Backward Substitution:*\n",
    "        - $x - 1 = 0$\n",
    "        - $x = 1$\n",
    "    - *Result:*\n",
    "        - $x = 1, \\ y = 1$"
   ]
  },
  {
   "cell_type": "code",
   "execution_count": 7,
   "id": "1f91fc8d-d9fc-4d53-966a-c7b3f91e181f",
   "metadata": {},
   "outputs": [
    {
     "name": "stdout",
     "output_type": "stream",
     "text": [
      "Solution:\n",
      "x = 1.0\n",
      "y = 1.0\n"
     ]
    }
   ],
   "source": [
    "import numpy as np\n",
    "\n",
    "# Coefficient matrix\n",
    "coeff_matrix = np.array([[1, -1], [2, 1]])\n",
    "\n",
    "# Constants\n",
    "constants = np.array([0, 3])\n",
    "\n",
    "# Solve the system of linear equations\n",
    "solution = np.linalg.solve(coeff_matrix, constants)\n",
    "\n",
    "# Print the solution\n",
    "print(\"Solution:\")\n",
    "print(\"x =\", solution[0])\n",
    "print(\"y =\", solution[1])"
   ]
  },
  {
   "cell_type": "markdown",
   "id": "7db0dd79-abfa-4108-ae6f-c47f28b9d871",
   "metadata": {},
   "source": [
    "- $L1: x + 5y = -1, \\ L2: -x + y = -5, \\ L3: 2x + 4y = 4$ <br><br>\n",
    "    - *Forward Elimination:* <br><br>\n",
    "$\n",
    "\\begin{pmatrix}\n",
    "    1 & 5 &\\bigm| & -1 \\\\\n",
    "    -1 & 1 &\\bigm| & -5 \\\\\n",
    "    2 & 4 &\\bigm| & 4 \\\\\n",
    "\\end{pmatrix}\n",
    "\\xrightarrow[\\text{R}_{3} - 2\\text{R}_{1}]{\\text{R}_{2} + \\text{R}_{1}}\n",
    "\\begin{pmatrix}\n",
    "    1 & 5 &\\bigm| & -1 \\\\\n",
    "    0 & 6 &\\bigm| & -6 \\\\\n",
    "    0 & -6 &\\bigm| & 6 \\\\\n",
    "\\end{pmatrix}\n",
    "\\xrightarrow[\\text{R}_{3}(\\frac{1}{6})]{\\text{R}_{2}(\\frac{1}{6})}\n",
    "\\begin{pmatrix}\n",
    "    1 & 5 &\\bigm| & -1 \\\\\n",
    "    0 & 1 &\\bigm| & -1 \\\\\n",
    "    0 & -1 &\\bigm| & 1 \\\\\n",
    "\\end{pmatrix}\n",
    "\\xrightarrow[\\text{R}_{3} + \\text{R}_{2}]{}\n",
    "\\begin{pmatrix}\n",
    "    1 & 5 &\\bigm| & -1 \\\\\n",
    "    0 & 1 &\\bigm| & -1 \\\\\n",
    "    0 & 0 &\\bigm| & 0 \\\\\n",
    "\\end{pmatrix}\n",
    "% \\xrightarrow[\\text{R}_{1} - 5\\text{R}_{2}]{}\n",
    "% \\begin{pmatrix}\n",
    "%     1 & 0 &\\bigm| & 4 \\\\\n",
    "%     0 & 1 &\\bigm| & -1 \\\\\n",
    "%     0 & 0 &\\bigm| & 0 \\\\\n",
    "% \\end{pmatrix}\n",
    "$ \n",
    "<br><br> \n",
    "        - y = -1\n",
    "<br>\n",
    "    - *Backward Substitution:* <br>\n",
    "        - x + 5(-1) = -1\n",
    "        - x + -5 = -1\n",
    "        - x = 5 + (-1)\n",
    "        - x = 4\n",
    "    - *Result:*\n",
    "        - $x = 4, \\ y = -1$"
   ]
  },
  {
   "cell_type": "code",
   "execution_count": 8,
   "id": "f8c176e0-0cf3-4df4-98ee-6bb92010e625",
   "metadata": {},
   "outputs": [
    {
     "name": "stdout",
     "output_type": "stream",
     "text": [
      "Solution:\n",
      "x = 4.000000000000001\n",
      "y = -0.9999999999999998\n"
     ]
    }
   ],
   "source": [
    "import numpy as np\n",
    "\n",
    "# Coefficient matrix\n",
    "coeff_matrix = np.array([[1, 5], [-1, 1], [2, 4]])\n",
    "\n",
    "# Constants\n",
    "constants = np.array([-1, -5, 4])\n",
    "\n",
    "# Solve the system of linear equations\n",
    "solution = np.linalg.lstsq(coeff_matrix, constants, rcond=None)[0]\n",
    "\n",
    "# Print the solution\n",
    "print(\"Solution:\")\n",
    "print(\"x =\", solution[0])\n",
    "print(\"y =\", solution[1])"
   ]
  },
  {
   "cell_type": "markdown",
   "id": "734b54fe-9fe6-4581-9426-310090e3f5bd",
   "metadata": {},
   "source": [
    "- $L1: 2x_1 + 3x_2 - x_3 = -1, L2: x_1 + x_3 = 0, L3: -x_1 + 2x_2 - 2x_3  = 0$ <br><br>\n",
    "    - *Forward Elimination:* <br><br>\n",
    "$\n",
    "\\begin{pmatrix}\n",
    "    2 & 3 & -1 &\\bigm| & -1 \\\\\n",
    "    1 & 0 & 1 &\\bigm| & 0 \\\\\n",
    "    -1 & 2 & -2 &\\bigm| & 0 \\\\\n",
    "\\end{pmatrix}\n",
    "\\xrightarrow[R_2 - R_1]{\\frac{1}{2}R_1}\n",
    "\\begin{pmatrix}\n",
    "    1 & \\frac{3}{2} & \\frac{-1}{2} &\\bigm| & \\frac{-1}{2} \\\\\n",
    "    0 & \\frac{-3}{2} & \\frac{3}{2} &\\bigm| & \\frac{1}{2}\\\\\n",
    "    -1 & 2 & -2 &\\bigm| & 0 \\\\\n",
    "\\end{pmatrix}\n",
    "\\xrightarrow[\\frac{-2}{3}R_2]{R_3 - \\frac{7}{2}R_2}\n",
    "\\begin{pmatrix}\n",
    "    1 & \\frac{3}{2} & \\frac{-1}{2} &\\bigm| & \\frac{-1}{2} \\\\\n",
    "    0 & 1 & -1 &\\bigm| & \\frac{-1}{3}\\\\\n",
    "    0 & 0 & 1 &\\bigm| & \\frac{-5}{9} \\\\\n",
    "\\end{pmatrix}\n",
    "\\xrightarrow[R_1 - \\frac{3}{2}R_2]{R_1 - \\frac{1}{3}R_2}\n",
    "\\begin{pmatrix}\n",
    "    1 & 0 & 0 &\\bigm| & 0 \\\\\n",
    "    0 & 1 & -1 &\\bigm| & \\frac{-1}{3}\\\\\n",
    "    0 & 0 & 1 &\\bigm| & \\frac{-5}{9} \\\\\n",
    "\\end{pmatrix}\n",
    "$\n",
    "<br>\n",
    "    - *Backward Substitution:* <br>\n",
    "        - x_1 = 0\n",
    "        - $x_3 = -\\frac{5}{9}$\n",
    "        - $x_2 - x_3 = -\\frac{1}{3}$ \n",
    "        - $x_2 - (-\\frac{5}{9}) = -\\frac{1}{3}$\n",
    "        - $x_2 = -\\frac{1}{3} - \\frac{5}{9}$\n",
    "        - $x_2 = -\\frac{8}{9}$\n",
    "    - *Result:*\n",
    "        - $x_1 = 0, x_2 = -\\frac{8}{9}, x_3 = -\\frac{5}{9}$"
   ]
  },
  {
   "cell_type": "markdown",
   "id": "69bc225f-72c8-4837-bef4-2f995fe986f3",
   "metadata": {},
   "source": [
    "----------------------------------------------------------------------------------------------------------------------------"
   ]
  },
  {
   "cell_type": "code",
   "execution_count": null,
   "id": "a2b05861-b4f3-404f-a1db-b0d75f87ae3e",
   "metadata": {},
   "outputs": [],
   "source": []
  }
 ],
 "metadata": {
  "kernelspec": {
   "display_name": "Python 3 (ipykernel)",
   "language": "python",
   "name": "python3"
  },
  "language_info": {
   "codemirror_mode": {
    "name": "ipython",
    "version": 3
   },
   "file_extension": ".py",
   "mimetype": "text/x-python",
   "name": "python",
   "nbconvert_exporter": "python",
   "pygments_lexer": "ipython3",
   "version": "3.11.5"
  }
 },
 "nbformat": 4,
 "nbformat_minor": 5
}
